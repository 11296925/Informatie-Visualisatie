{
 "cells": [
  {
   "cell_type": "markdown",
   "metadata": {},
   "source": [
    "Murtaza Latif (11813709)\n",
    "Chris Wijgh (12277010)\n",
    "Denny Smit (11296925)"
   ]
  },
  {
   "cell_type": "markdown",
   "metadata": {},
   "source": [
    "Stelling: Er is een aantoonbare correlatie tussen de verandering van het aantal verkochte huizen en de Price Index tussen provincies"
   ]
  },
  {
   "cell_type": "code",
   "execution_count": 1,
   "metadata": {},
   "outputs": [
    {
     "data": {
      "text/html": [
       "        <script type=\"text/javascript\">\n",
       "        window.PlotlyConfig = {MathJaxConfig: 'local'};\n",
       "        if (window.MathJax) {MathJax.Hub.Config({SVG: {font: \"STIX-Web\"}});}\n",
       "        if (typeof require !== 'undefined') {\n",
       "        require.undef(\"plotly\");\n",
       "        requirejs.config({\n",
       "            paths: {\n",
       "                'plotly': ['https://cdn.plot.ly/plotly-latest.min']\n",
       "            }\n",
       "        });\n",
       "        require(['plotly'], function(Plotly) {\n",
       "            window._Plotly = Plotly;\n",
       "        });\n",
       "        }\n",
       "        </script>\n",
       "        "
      ]
     },
     "metadata": {},
     "output_type": "display_data"
    }
   ],
   "source": [
    "# Deze cell importeert een aantal functies en modules die je nodig hebt om deze opdracht te maken.\n",
    "\n",
    "from plotly.offline import init_notebook_mode, iplot\n",
    "import plotly.graph_objs as go\n",
    "\n",
    "# Start notebook mode\n",
    "init_notebook_mode(connected=True)\n",
    "\n",
    "import pandas as pd # we gebruiken pandas om de CSV data te laden en te visualiseren"
   ]
  },
  {
   "cell_type": "code",
   "execution_count": 2,
   "metadata": {},
   "outputs": [],
   "source": [
    "\"\"\"\"\"\"\"\"\"\"\"\"\"\"\"\n",
    "Create a clean and usable database\n",
    "\"\"\"\"\"\"\"\"\"\"\"\"\"\"\"\n",
    "\n",
    "# Read in the basic datafile\n",
    "df_clean = pd.read_csv('Houses.csv', sep=';',skiprows=2)\n",
    "\n",
    "# Clean up the column names\n",
    "df_clean.rename(columns={\"Unnamed: 0\": \"region\", \"Subjects\": \"period\", \"Price index of existing own homes\": \"price_index\",\n",
    "                        \"Changes compared to one period earlier\": \"change%_price_period\", \"Changes compared to one year earlier\" :\"change%_price_year\",\n",
    "                        \"Number of dwellings sold\" : \"nr_sold\", \"Changes compared to one period earlier.1\" : \"change%_sold_period\",\n",
    "                        \"Changes compared to one year earlier.1\" : \"change%_sold_year\"},inplace=True)\n",
    "\n",
    "# Drop the irrelevant top row \n",
    "df_clean.drop(df_clean.index[0],inplace=True)\n",
    "\n",
    "#restore the index to normal\n",
    "df_clean = df_clean.reset_index(drop=True)\n",
    "\n",
    "# Make the number \"string\" columns into numerics\n",
    "df_clean['price_index'] = pd.to_numeric(df_clean['price_index'])\n",
    "df_clean['change%_price_period'] = pd.to_numeric(df_clean['change%_price_period'])\n",
    "df_clean['change%_price_year'] = pd.to_numeric(df_clean['change%_price_year'])\n",
    "df_clean['nr_sold'] = pd.to_numeric(df_clean['nr_sold'])\n",
    "df_clean['change%_sold_period'] = pd.to_numeric(df_clean['change%_sold_period'])\n",
    "df_clean['change%_sold_year'] = pd.to_numeric(df_clean['change%_sold_year'])\n",
    "\n",
    "# Select only the whole years\n",
    "df_clean_years = df_clean[df_clean[\"period\"].isin([\"2010\", \"2011\", \"2012\", \"2013\", \"2014\", \"2015\", \"2016\"])]\n",
    "\n",
    "# clean up the index again, for neatness\n",
    "df_clean_years = df_clean_years.reset_index(drop=True)"
   ]
  },
  {
   "cell_type": "markdown",
   "metadata": {},
   "source": [
    "\n",
    "Over het algemeen geldt dat een toename van huizenverkoop in een bepaald gebied leidt tot hogere huizenprijzen in het desbetreffende gebied. In deze story wordt onderzocht of er een correlatie gevonden kan wordenn tussen verschillende provincies voor deze twee variabelen. Dit geeft vervolgens aan of deze variabelen per provincie even sterk door elkaar worden beïnvloed. Dit zou kunnen verschillen per provincie als andere factoren de verhouding tussen deze 2 beïnvloeden.\n"
   ]
  },
  {
   "cell_type": "markdown",
   "metadata": {},
   "source": [
    "\n",
    "Allereerst onderzoeken we de verandering in price index per provincie per jaar.\n",
    "Hierin is te zien dat in iedere provincie de price index tot en met 2013 daalt. Zeeland is hierbij de meest constante en verandert door de gehele periode zowel positief als negatief weinig ten opzichte van andere provincies. Wanneer in 2014 de huizenprijzen in de meeste provincies weer gaan stijgen is Noord-Holland in deze periode een uitschieter.\n"
   ]
  },
  {
   "cell_type": "code",
   "execution_count": 3,
   "metadata": {},
   "outputs": [
    {
     "data": {
      "application/vnd.plotly.v1+json": {
       "config": {
        "linkText": "Export to plot.ly",
        "plotlyServerURL": "https://plot.ly",
        "showLink": false
       },
       "data": [
        {
         "name": "Groningen",
         "type": "bar",
         "uid": "c261b91b-2404-49be-a3e8-736bc8f57058",
         "x": [
          "2010",
          "2011",
          "2012",
          "2013",
          "2014",
          "2015",
          "2016"
         ],
         "y": [
          -1.2,
          -3.1,
          -6.4,
          -5.4,
          -0.8,
          2.7,
          4.7
         ]
        },
        {
         "name": "Friesland",
         "type": "bar",
         "uid": "6b146fbe-d2dc-434f-b5ee-fe2381171417",
         "x": [
          "2010",
          "2011",
          "2012",
          "2013",
          "2014",
          "2015",
          "2016"
         ],
         "y": [
          -0.6,
          -4.3,
          -6.4,
          -7.2,
          -1.2,
          2,
          3.9
         ]
        },
        {
         "name": "Drenthe",
         "type": "bar",
         "uid": "90359dc4-e4eb-43ea-83ba-57611cbae8ae",
         "x": [
          "2010",
          "2011",
          "2012",
          "2013",
          "2014",
          "2015",
          "2016"
         ],
         "y": [
          -2.1,
          -2.7,
          -5.7,
          -7.3,
          -0.2,
          1.6,
          2.1
         ]
        },
        {
         "name": "Overijssel",
         "type": "bar",
         "uid": "a5df1e06-329c-405d-bc05-2ac931d2d723",
         "x": [
          "2010",
          "2011",
          "2012",
          "2013",
          "2014",
          "2015",
          "2016"
         ],
         "y": [
          -1.9,
          -2.9,
          -5.1,
          -6.4,
          0.6,
          0.9,
          3.9
         ]
        },
        {
         "name": "Flevoland",
         "type": "bar",
         "uid": "d922481c-add7-43bf-8583-d3774ee0ad35",
         "x": [
          "2010",
          "2011",
          "2012",
          "2013",
          "2014",
          "2015",
          "2016"
         ],
         "y": [
          -2.7,
          -2.7,
          -5.3,
          -5.1,
          0.9,
          1.4,
          4.8
         ]
        },
        {
         "name": "Gelderland",
         "type": "bar",
         "uid": "4b7f6e8e-8ca2-47a3-94fb-415ca59a6eec",
         "x": [
          "2010",
          "2011",
          "2012",
          "2013",
          "2014",
          "2015",
          "2016"
         ],
         "y": [
          -2.1,
          -3.2,
          -6.9,
          -6.9,
          -0.3,
          2,
          3.5
         ]
        },
        {
         "name": "Utrecht",
         "type": "bar",
         "uid": "323af6a0-81a8-46f9-9cd0-3640bcbbb80d",
         "x": [
          "2010",
          "2011",
          "2012",
          "2013",
          "2014",
          "2015",
          "2016"
         ],
         "y": [
          -2.3,
          -2.5,
          -6.6,
          -6.6,
          1.9,
          3.9,
          6.3
         ]
        },
        {
         "name": "Noord-Holland",
         "type": "bar",
         "uid": "24d418d7-8b03-4231-a59a-ae260044d784",
         "x": [
          "2010",
          "2011",
          "2012",
          "2013",
          "2014",
          "2015",
          "2016"
         ],
         "y": [
          -2.8,
          -1.3,
          -6.4,
          -7.1,
          2.7,
          5.3,
          8.2
         ]
        },
        {
         "name": "Zuid-Holland",
         "type": "bar",
         "uid": "526c4bd2-470a-4b80-8e98-8b1c24e8c63d",
         "x": [
          "2010",
          "2011",
          "2012",
          "2013",
          "2014",
          "2015",
          "2016"
         ],
         "y": [
          -2.2,
          -1.7,
          -6.4,
          -6.1,
          1.2,
          3,
          5.2
         ]
        },
        {
         "name": "Zeeland",
         "type": "bar",
         "uid": "916b547b-9129-457f-9928-4507b2715f61",
         "x": [
          "2010",
          "2011",
          "2012",
          "2013",
          "2014",
          "2015",
          "2016"
         ],
         "y": [
          -2.1,
          -1,
          -5.2,
          -2.7,
          -1,
          0.4,
          2.4
         ]
        },
        {
         "name": "Brabant",
         "type": "bar",
         "uid": "764e1a39-f48d-4570-b5dd-998efceea611",
         "x": [
          "2010",
          "2011",
          "2012",
          "2013",
          "2014",
          "2015",
          "2016"
         ],
         "y": [
          -2.4,
          -3.2,
          -7.2,
          -7.3,
          0.4,
          2.3,
          3.9
         ]
        },
        {
         "name": "Limburg",
         "type": "bar",
         "uid": "433baa48-4d30-4dbe-ad8d-622893f4ae5b",
         "x": [
          "2010",
          "2011",
          "2012",
          "2013",
          "2014",
          "2015",
          "2016"
         ],
         "y": [
          -2.3,
          -2.2,
          -6.1,
          -5.9,
          1.2,
          1.9,
          4.1
         ]
        }
       ],
       "layout": {
        "barmode": "group",
        "showlegend": true,
        "title": {
         "text": "Price Index"
        },
        "xaxis": {
         "title": {
          "text": "Jaar"
         },
         "type": "category"
        },
        "yaxis": {
         "title": {
          "text": "Price Index verandering t.o.v. vorig jaar"
         }
        }
       }
      },
      "text/html": [
       "<div>\n",
       "        \n",
       "        \n",
       "            <div id=\"ee094054-2224-4f33-ba11-d000f69afb9c\" class=\"plotly-graph-div\" style=\"height:525px; width:100%;\"></div>\n",
       "            <script type=\"text/javascript\">\n",
       "                require([\"plotly\"], function(Plotly) {\n",
       "                    window.PLOTLYENV=window.PLOTLYENV || {};\n",
       "                    window.PLOTLYENV.BASE_URL='https://plot.ly';\n",
       "                    \n",
       "                if (document.getElementById(\"ee094054-2224-4f33-ba11-d000f69afb9c\")) {\n",
       "                    Plotly.newPlot(\n",
       "                        'ee094054-2224-4f33-ba11-d000f69afb9c',\n",
       "                        [{\"name\": \"Groningen\", \"type\": \"bar\", \"uid\": \"c261b91b-2404-49be-a3e8-736bc8f57058\", \"x\": [\"2010\", \"2011\", \"2012\", \"2013\", \"2014\", \"2015\", \"2016\"], \"y\": [-1.2, -3.1, -6.4, -5.4, -0.8, 2.7, 4.7]}, {\"name\": \"Friesland\", \"type\": \"bar\", \"uid\": \"6b146fbe-d2dc-434f-b5ee-fe2381171417\", \"x\": [\"2010\", \"2011\", \"2012\", \"2013\", \"2014\", \"2015\", \"2016\"], \"y\": [-0.6, -4.3, -6.4, -7.2, -1.2, 2.0, 3.9]}, {\"name\": \"Drenthe\", \"type\": \"bar\", \"uid\": \"90359dc4-e4eb-43ea-83ba-57611cbae8ae\", \"x\": [\"2010\", \"2011\", \"2012\", \"2013\", \"2014\", \"2015\", \"2016\"], \"y\": [-2.1, -2.7, -5.7, -7.3, -0.2, 1.6, 2.1]}, {\"name\": \"Overijssel\", \"type\": \"bar\", \"uid\": \"a5df1e06-329c-405d-bc05-2ac931d2d723\", \"x\": [\"2010\", \"2011\", \"2012\", \"2013\", \"2014\", \"2015\", \"2016\"], \"y\": [-1.9, -2.9, -5.1, -6.4, 0.6, 0.9, 3.9]}, {\"name\": \"Flevoland\", \"type\": \"bar\", \"uid\": \"d922481c-add7-43bf-8583-d3774ee0ad35\", \"x\": [\"2010\", \"2011\", \"2012\", \"2013\", \"2014\", \"2015\", \"2016\"], \"y\": [-2.7, -2.7, -5.3, -5.1, 0.9, 1.4, 4.8]}, {\"name\": \"Gelderland\", \"type\": \"bar\", \"uid\": \"4b7f6e8e-8ca2-47a3-94fb-415ca59a6eec\", \"x\": [\"2010\", \"2011\", \"2012\", \"2013\", \"2014\", \"2015\", \"2016\"], \"y\": [-2.1, -3.2, -6.9, -6.9, -0.3, 2.0, 3.5]}, {\"name\": \"Utrecht\", \"type\": \"bar\", \"uid\": \"323af6a0-81a8-46f9-9cd0-3640bcbbb80d\", \"x\": [\"2010\", \"2011\", \"2012\", \"2013\", \"2014\", \"2015\", \"2016\"], \"y\": [-2.3, -2.5, -6.6, -6.6, 1.9, 3.9, 6.3]}, {\"name\": \"Noord-Holland\", \"type\": \"bar\", \"uid\": \"24d418d7-8b03-4231-a59a-ae260044d784\", \"x\": [\"2010\", \"2011\", \"2012\", \"2013\", \"2014\", \"2015\", \"2016\"], \"y\": [-2.8, -1.3, -6.4, -7.1, 2.7, 5.3, 8.2]}, {\"name\": \"Zuid-Holland\", \"type\": \"bar\", \"uid\": \"526c4bd2-470a-4b80-8e98-8b1c24e8c63d\", \"x\": [\"2010\", \"2011\", \"2012\", \"2013\", \"2014\", \"2015\", \"2016\"], \"y\": [-2.2, -1.7, -6.4, -6.1, 1.2, 3.0, 5.2]}, {\"name\": \"Zeeland\", \"type\": \"bar\", \"uid\": \"916b547b-9129-457f-9928-4507b2715f61\", \"x\": [\"2010\", \"2011\", \"2012\", \"2013\", \"2014\", \"2015\", \"2016\"], \"y\": [-2.1, -1.0, -5.2, -2.7, -1.0, 0.4, 2.4]}, {\"name\": \"Brabant\", \"type\": \"bar\", \"uid\": \"764e1a39-f48d-4570-b5dd-998efceea611\", \"x\": [\"2010\", \"2011\", \"2012\", \"2013\", \"2014\", \"2015\", \"2016\"], \"y\": [-2.4, -3.2, -7.2, -7.3, 0.4, 2.3, 3.9]}, {\"name\": \"Limburg\", \"type\": \"bar\", \"uid\": \"433baa48-4d30-4dbe-ad8d-622893f4ae5b\", \"x\": [\"2010\", \"2011\", \"2012\", \"2013\", \"2014\", \"2015\", \"2016\"], \"y\": [-2.3, -2.2, -6.1, -5.9, 1.2, 1.9, 4.1]}],\n",
       "                        {\"barmode\": \"group\", \"showlegend\": true, \"title\": {\"text\": \"Price Index\"}, \"xaxis\": {\"title\": {\"text\": \"Jaar\"}, \"type\": \"category\"}, \"yaxis\": {\"title\": {\"text\": \"Price Index verandering t.o.v. vorig jaar\"}}},\n",
       "                        {\"showLink\": false, \"linkText\": \"Export to plot.ly\", \"plotlyServerURL\": \"https://plot.ly\", \"responsive\": true}\n",
       "                    ).then(function(){\n",
       "                            \n",
       "var gd = document.getElementById('ee094054-2224-4f33-ba11-d000f69afb9c');\n",
       "var x = new MutationObserver(function (mutations, observer) {{\n",
       "        var display = window.getComputedStyle(gd).display;\n",
       "        if (!display || display === 'none') {{\n",
       "            console.log([gd, 'removed!']);\n",
       "            Plotly.purge(gd);\n",
       "            observer.disconnect();\n",
       "        }}\n",
       "}});\n",
       "\n",
       "// Listen for the removal of the full notebook cells\n",
       "var notebookContainer = gd.closest('#notebook-container');\n",
       "if (notebookContainer) {{\n",
       "    x.observe(notebookContainer, {childList: true});\n",
       "}}\n",
       "\n",
       "// Listen for the clearing of the current output cell\n",
       "var outputEl = gd.closest('.output');\n",
       "if (outputEl) {{\n",
       "    x.observe(outputEl, {childList: true});\n",
       "}}\n",
       "\n",
       "                        })\n",
       "                };\n",
       "                });\n",
       "            </script>\n",
       "        </div>"
      ]
     },
     "metadata": {},
     "output_type": "display_data"
    }
   ],
   "source": [
    "# Visualisatie 1: Bar Chart procentuele verandering van de price index per per provincie per jaar\n",
    "\n",
    "traceGR = go.Bar(\n",
    "    x = df_clean_years[df_clean_years['region'] == 'Groningen (PV)']['period'],\n",
    "    y = df_clean_years[df_clean_years['region'] == 'Groningen (PV)']['change%_price_year'],\n",
    "    name = 'Groningen'\n",
    ")\n",
    "\n",
    "traceFr = go.Bar(\n",
    "    x = df_clean_years[df_clean_years['region'] == 'Friesland (PV)']['period'],\n",
    "    y = df_clean_years[df_clean_years['region'] == 'Friesland (PV)']['change%_price_year'],\n",
    "    name = 'Friesland'\n",
    ")\n",
    "\n",
    "traceDre = go.Bar(\n",
    "    x = df_clean_years[df_clean_years['region'] == 'Drenthe (PV)']['period'],\n",
    "    y = df_clean_years[df_clean_years['region'] == 'Drenthe (PV)']['change%_price_year'],\n",
    "    name = 'Drenthe'\n",
    ")\n",
    "\n",
    "traceOver = go.Bar(\n",
    "    x = df_clean_years[df_clean_years['region'] == 'Overijssel (PV)']['period'],\n",
    "    y = df_clean_years[df_clean_years['region'] == 'Overijssel (PV)']['change%_price_year'],\n",
    "    name = 'Overijssel'\n",
    ")\n",
    "\n",
    "traceFL = go.Bar(\n",
    "    x = df_clean_years[df_clean_years['region'] == 'Flevoland (PV)']['period'],\n",
    "    y = df_clean_years[df_clean_years['region'] == 'Flevoland (PV)']['change%_price_year'],\n",
    "    name = 'Flevoland'\n",
    ")\n",
    "\n",
    "traceGL = go.Bar(\n",
    "    x = df_clean_years[df_clean_years['region'] == 'Gelderland (PV)']['period'],\n",
    "    y = df_clean_years[df_clean_years['region'] == 'Gelderland (PV)']['change%_price_year'],\n",
    "    name = 'Gelderland'\n",
    ")\n",
    "\n",
    "traceUtr = go.Bar(\n",
    "    x = df_clean_years[df_clean_years['region'] == 'Utrecht (PV)']['period'],\n",
    "    y = df_clean_years[df_clean_years['region'] == 'Utrecht (PV)']['change%_price_year'],\n",
    "    name = 'Utrecht'\n",
    ")\n",
    "\n",
    "traceNH = go.Bar(\n",
    "    x = df_clean_years[df_clean_years['region'] == 'Noord-Holland (PV)']['period'],\n",
    "    y = df_clean_years[df_clean_years['region'] == 'Noord-Holland (PV)']['change%_price_year'],\n",
    "    name = 'Noord-Holland'\n",
    ")\n",
    "\n",
    "traceZH = go.Bar(\n",
    "    x = df_clean_years[df_clean_years['region'] == 'Zuid-Holland (PV)']['period'],\n",
    "    y = df_clean_years[df_clean_years['region'] == 'Zuid-Holland (PV)']['change%_price_year'],\n",
    "    name = 'Zuid-Holland'\n",
    ")\n",
    "\n",
    "traceZL = go.Bar(\n",
    "    x = df_clean_years[df_clean_years['region'] == 'Zeeland (PV)']['period'],\n",
    "    y = df_clean_years[df_clean_years['region'] == 'Zeeland (PV)']['change%_price_year'],\n",
    "    name = 'Zeeland'\n",
    ")\n",
    "\n",
    "traceBR = go.Bar(\n",
    "    x = df_clean_years[df_clean_years['region'] == 'Noord-Brabant (PV)']['period'],\n",
    "    y = df_clean_years[df_clean_years['region'] == 'Noord-Brabant (PV)']['change%_price_year'],\n",
    "    name = 'Brabant'\n",
    ")\n",
    "\n",
    "traceLim = go.Bar(\n",
    "    x = df_clean_years[df_clean_years['region'] == 'Limburg (PV)']['period'],\n",
    "    y = df_clean_years[df_clean_years['region'] == 'Limburg (PV)']['change%_price_year'],\n",
    "    name = 'Limburg'\n",
    ")\n",
    "\n",
    "layout = dict(\n",
    "    showlegend=True,\n",
    "    title=go.layout.Title(\n",
    "        text='Price Index',\n",
    "    ),\n",
    "    barmode='group',\n",
    "    xaxis=go.layout.XAxis(\n",
    "        type='category', # het type van de X as is categorisch\n",
    "        title=go.layout.xaxis.Title(\n",
    "            text='Jaar',\n",
    "        ),\n",
    "    ),\n",
    "    yaxis = go.layout.YAxis(\n",
    "        title=go.layout.yaxis.Title(\n",
    "            text='Price Index verandering t.o.v. vorig jaar',\n",
    "        ),\n",
    "    )\n",
    ")\n",
    "\n",
    "data=[traceGR, traceFr, traceDre, traceOver, traceFL, traceGL, traceUtr, traceNH, traceZH, traceZL, traceBR, traceLim]\n",
    "fig0 = go.Figure(data=data, layout=layout)\n",
    "iplot(fig0)"
   ]
  },
  {
   "cell_type": "code",
   "execution_count": 4,
   "metadata": {},
   "outputs": [
    {
     "data": {
      "application/vnd.plotly.v1+json": {
       "config": {
        "linkText": "Export to plot.ly",
        "plotlyServerURL": "https://plot.ly",
        "showLink": false
       },
       "data": [
        {
         "marker": {
          "color": "green"
         },
         "name": "Verandering prijs",
         "type": "bar",
         "uid": "f70fbd4c-8493-4463-bd8f-be168645230c",
         "visible": true,
         "x": [
          "2010",
          "2011",
          "2012",
          "2013",
          "2014",
          "2015",
          "2016"
         ],
         "y": [
          -1.2,
          -3.1,
          -6.4,
          -5.4,
          -0.8,
          2.7,
          4.7
         ]
        },
        {
         "marker": {
          "color": "green"
         },
         "name": "Verandering prijs",
         "type": "bar",
         "uid": "8dddbd8c-b3e6-4405-bd72-1b45e7c0df9f",
         "visible": false,
         "x": [
          "2010",
          "2011",
          "2012",
          "2013",
          "2014",
          "2015",
          "2016"
         ],
         "y": [
          -0.6,
          -4.3,
          -6.4,
          -7.2,
          -1.2,
          2,
          3.9
         ]
        },
        {
         "marker": {
          "color": "green"
         },
         "name": "Verandering prijs",
         "type": "bar",
         "uid": "693ccc0d-4e3e-4841-99c3-af932fe31764",
         "visible": false,
         "x": [
          "2010",
          "2011",
          "2012",
          "2013",
          "2014",
          "2015",
          "2016"
         ],
         "y": [
          -2.1,
          -2.7,
          -5.7,
          -7.3,
          -0.2,
          1.6,
          2.1
         ]
        },
        {
         "marker": {
          "color": "green"
         },
         "name": "Verandering prijs",
         "type": "bar",
         "uid": "4f12564b-44f9-4c64-bc0c-5fdd3fd421d5",
         "visible": false,
         "x": [
          "2010",
          "2011",
          "2012",
          "2013",
          "2014",
          "2015",
          "2016"
         ],
         "y": [
          -1.9,
          -2.9,
          -5.1,
          -6.4,
          0.6,
          0.9,
          3.9
         ]
        },
        {
         "marker": {
          "color": "green"
         },
         "name": "Verandering prijs",
         "type": "bar",
         "uid": "7c244af1-fdbf-4392-8252-374b22f732e1",
         "visible": false,
         "x": [
          "2010",
          "2011",
          "2012",
          "2013",
          "2014",
          "2015",
          "2016"
         ],
         "y": [
          -2.7,
          -2.7,
          -5.3,
          -5.1,
          0.9,
          1.4,
          4.8
         ]
        },
        {
         "marker": {
          "color": "green"
         },
         "name": "Verandering prijs",
         "type": "bar",
         "uid": "f7f529f9-f5ed-43d8-8df1-777f951cd52c",
         "visible": false,
         "x": [
          "2010",
          "2011",
          "2012",
          "2013",
          "2014",
          "2015",
          "2016"
         ],
         "y": [
          -2.1,
          -3.2,
          -6.9,
          -6.9,
          -0.3,
          2,
          3.5
         ]
        },
        {
         "marker": {
          "color": "green"
         },
         "name": "Verandering prijs",
         "type": "bar",
         "uid": "31c56ae7-2ec8-46fe-ae42-17974031a28d",
         "visible": false,
         "x": [
          "2010",
          "2011",
          "2012",
          "2013",
          "2014",
          "2015",
          "2016"
         ],
         "y": [
          -2.3,
          -2.5,
          -6.6,
          -6.6,
          1.9,
          3.9,
          6.3
         ]
        },
        {
         "marker": {
          "color": "green"
         },
         "name": "Verandering prijs",
         "type": "bar",
         "uid": "76ae13f9-0dc5-4a6f-a584-56caa5c27be8",
         "visible": false,
         "x": [
          "2010",
          "2011",
          "2012",
          "2013",
          "2014",
          "2015",
          "2016"
         ],
         "y": [
          -2.8,
          -1.3,
          -6.4,
          -7.1,
          2.7,
          5.3,
          8.2
         ]
        },
        {
         "marker": {
          "color": "green"
         },
         "name": "Verandering prijs",
         "type": "bar",
         "uid": "e407e97f-b7c4-4a72-afec-012f8c106d8e",
         "visible": false,
         "x": [
          "2010",
          "2011",
          "2012",
          "2013",
          "2014",
          "2015",
          "2016"
         ],
         "y": [
          -2.2,
          -1.7,
          -6.4,
          -6.1,
          1.2,
          3,
          5.2
         ]
        },
        {
         "marker": {
          "color": "green"
         },
         "name": "Verandering prijs",
         "type": "bar",
         "uid": "49416fd8-b024-4244-addb-845557017b40",
         "visible": false,
         "x": [
          "2010",
          "2011",
          "2012",
          "2013",
          "2014",
          "2015",
          "2016"
         ],
         "y": [
          -2.1,
          -1,
          -5.2,
          -2.7,
          -1,
          0.4,
          2.4
         ]
        },
        {
         "marker": {
          "color": "green"
         },
         "name": "Verandering prijs",
         "type": "bar",
         "uid": "87ce6ab3-0fb4-4fd8-954d-2795e2a03f8c",
         "visible": false,
         "x": [
          "2010",
          "2011",
          "2012",
          "2013",
          "2014",
          "2015",
          "2016"
         ],
         "y": [
          -2.4,
          -3.2,
          -7.2,
          -7.3,
          0.4,
          2.3,
          3.9
         ]
        },
        {
         "marker": {
          "color": "green"
         },
         "name": "Verandering prijs",
         "type": "bar",
         "uid": "3a5f5999-b2b2-46f5-9224-302ca0e56f40",
         "visible": false,
         "x": [
          "2010",
          "2011",
          "2012",
          "2013",
          "2014",
          "2015",
          "2016"
         ],
         "y": [
          -2.3,
          -2.2,
          -6.1,
          -5.9,
          1.2,
          1.9,
          4.1
         ]
        }
       ],
       "layout": {
        "barmode": "group",
        "sliders": [
         {
          "active": 0,
          "currentvalue": {
           "prefix": "Provincie: "
          },
          "pad": {
           "t": 50
          },
          "steps": [
           {
            "args": [
             "visible",
             [
              true,
              false,
              false,
              false,
              false,
              false,
              false,
              false,
              false,
              false,
              false,
              false
             ]
            ],
            "label": "GR",
            "method": "restyle"
           },
           {
            "args": [
             "visible",
             [
              false,
              true,
              false,
              false,
              false,
              false,
              false,
              false,
              false,
              false,
              false,
              false
             ]
            ],
            "label": "FR",
            "method": "restyle"
           },
           {
            "args": [
             "visible",
             [
              false,
              false,
              true,
              false,
              false,
              false,
              false,
              false,
              false,
              false,
              false,
              false
             ]
            ],
            "label": "DR",
            "method": "restyle"
           },
           {
            "args": [
             "visible",
             [
              false,
              false,
              false,
              true,
              false,
              false,
              false,
              false,
              false,
              false,
              false,
              false
             ]
            ],
            "label": "OV",
            "method": "restyle"
           },
           {
            "args": [
             "visible",
             [
              false,
              false,
              false,
              false,
              true,
              false,
              false,
              false,
              false,
              false,
              false,
              false
             ]
            ],
            "label": "FL",
            "method": "restyle"
           },
           {
            "args": [
             "visible",
             [
              false,
              false,
              false,
              false,
              false,
              true,
              false,
              false,
              false,
              false,
              false,
              false
             ]
            ],
            "label": "GD",
            "method": "restyle"
           },
           {
            "args": [
             "visible",
             [
              false,
              false,
              false,
              false,
              false,
              false,
              true,
              false,
              false,
              false,
              false,
              false
             ]
            ],
            "label": "UT",
            "method": "restyle"
           },
           {
            "args": [
             "visible",
             [
              false,
              false,
              false,
              false,
              false,
              false,
              false,
              true,
              false,
              false,
              false,
              false
             ]
            ],
            "label": "NH",
            "method": "restyle"
           },
           {
            "args": [
             "visible",
             [
              false,
              false,
              false,
              false,
              false,
              false,
              false,
              false,
              true,
              false,
              false,
              false
             ]
            ],
            "label": "ZH",
            "method": "restyle"
           },
           {
            "args": [
             "visible",
             [
              false,
              false,
              false,
              false,
              false,
              false,
              false,
              false,
              false,
              true,
              false,
              false
             ]
            ],
            "label": "ZL",
            "method": "restyle"
           },
           {
            "args": [
             "visible",
             [
              false,
              false,
              false,
              false,
              false,
              false,
              false,
              false,
              false,
              false,
              true,
              false
             ]
            ],
            "label": "NB",
            "method": "restyle"
           },
           {
            "args": [
             "visible",
             [
              false,
              false,
              false,
              false,
              false,
              false,
              false,
              false,
              false,
              false,
              false,
              true
             ]
            ],
            "label": "LB",
            "method": "restyle"
           }
          ]
         }
        ],
        "title": {
         "text": "Veranderingen in prijs ten opzichte van het vorige jaar"
        },
        "xaxis": {
         "title": {
          "text": "Metingsjaar"
         }
        },
        "yaxis": {
         "title": {
          "text": "Percentage Verandering/inflatie"
         }
        }
       }
      },
      "text/html": [
       "<div>\n",
       "        \n",
       "        \n",
       "            <div id=\"7977c70a-100e-41d6-b937-7624006beadc\" class=\"plotly-graph-div\" style=\"height:525px; width:100%;\"></div>\n",
       "            <script type=\"text/javascript\">\n",
       "                require([\"plotly\"], function(Plotly) {\n",
       "                    window.PLOTLYENV=window.PLOTLYENV || {};\n",
       "                    window.PLOTLYENV.BASE_URL='https://plot.ly';\n",
       "                    \n",
       "                if (document.getElementById(\"7977c70a-100e-41d6-b937-7624006beadc\")) {\n",
       "                    Plotly.newPlot(\n",
       "                        '7977c70a-100e-41d6-b937-7624006beadc',\n",
       "                        [{\"marker\": {\"color\": \"green\"}, \"name\": \"Verandering prijs\", \"type\": \"bar\", \"uid\": \"f70fbd4c-8493-4463-bd8f-be168645230c\", \"visible\": true, \"x\": [\"2010\", \"2011\", \"2012\", \"2013\", \"2014\", \"2015\", \"2016\"], \"y\": [-1.2, -3.1, -6.4, -5.4, -0.8, 2.7, 4.7]}, {\"marker\": {\"color\": \"green\"}, \"name\": \"Verandering prijs\", \"type\": \"bar\", \"uid\": \"8dddbd8c-b3e6-4405-bd72-1b45e7c0df9f\", \"visible\": false, \"x\": [\"2010\", \"2011\", \"2012\", \"2013\", \"2014\", \"2015\", \"2016\"], \"y\": [-0.6, -4.3, -6.4, -7.2, -1.2, 2.0, 3.9]}, {\"marker\": {\"color\": \"green\"}, \"name\": \"Verandering prijs\", \"type\": \"bar\", \"uid\": \"693ccc0d-4e3e-4841-99c3-af932fe31764\", \"visible\": false, \"x\": [\"2010\", \"2011\", \"2012\", \"2013\", \"2014\", \"2015\", \"2016\"], \"y\": [-2.1, -2.7, -5.7, -7.3, -0.2, 1.6, 2.1]}, {\"marker\": {\"color\": \"green\"}, \"name\": \"Verandering prijs\", \"type\": \"bar\", \"uid\": \"4f12564b-44f9-4c64-bc0c-5fdd3fd421d5\", \"visible\": false, \"x\": [\"2010\", \"2011\", \"2012\", \"2013\", \"2014\", \"2015\", \"2016\"], \"y\": [-1.9, -2.9, -5.1, -6.4, 0.6, 0.9, 3.9]}, {\"marker\": {\"color\": \"green\"}, \"name\": \"Verandering prijs\", \"type\": \"bar\", \"uid\": \"7c244af1-fdbf-4392-8252-374b22f732e1\", \"visible\": false, \"x\": [\"2010\", \"2011\", \"2012\", \"2013\", \"2014\", \"2015\", \"2016\"], \"y\": [-2.7, -2.7, -5.3, -5.1, 0.9, 1.4, 4.8]}, {\"marker\": {\"color\": \"green\"}, \"name\": \"Verandering prijs\", \"type\": \"bar\", \"uid\": \"f7f529f9-f5ed-43d8-8df1-777f951cd52c\", \"visible\": false, \"x\": [\"2010\", \"2011\", \"2012\", \"2013\", \"2014\", \"2015\", \"2016\"], \"y\": [-2.1, -3.2, -6.9, -6.9, -0.3, 2.0, 3.5]}, {\"marker\": {\"color\": \"green\"}, \"name\": \"Verandering prijs\", \"type\": \"bar\", \"uid\": \"31c56ae7-2ec8-46fe-ae42-17974031a28d\", \"visible\": false, \"x\": [\"2010\", \"2011\", \"2012\", \"2013\", \"2014\", \"2015\", \"2016\"], \"y\": [-2.3, -2.5, -6.6, -6.6, 1.9, 3.9, 6.3]}, {\"marker\": {\"color\": \"green\"}, \"name\": \"Verandering prijs\", \"type\": \"bar\", \"uid\": \"76ae13f9-0dc5-4a6f-a584-56caa5c27be8\", \"visible\": false, \"x\": [\"2010\", \"2011\", \"2012\", \"2013\", \"2014\", \"2015\", \"2016\"], \"y\": [-2.8, -1.3, -6.4, -7.1, 2.7, 5.3, 8.2]}, {\"marker\": {\"color\": \"green\"}, \"name\": \"Verandering prijs\", \"type\": \"bar\", \"uid\": \"e407e97f-b7c4-4a72-afec-012f8c106d8e\", \"visible\": false, \"x\": [\"2010\", \"2011\", \"2012\", \"2013\", \"2014\", \"2015\", \"2016\"], \"y\": [-2.2, -1.7, -6.4, -6.1, 1.2, 3.0, 5.2]}, {\"marker\": {\"color\": \"green\"}, \"name\": \"Verandering prijs\", \"type\": \"bar\", \"uid\": \"49416fd8-b024-4244-addb-845557017b40\", \"visible\": false, \"x\": [\"2010\", \"2011\", \"2012\", \"2013\", \"2014\", \"2015\", \"2016\"], \"y\": [-2.1, -1.0, -5.2, -2.7, -1.0, 0.4, 2.4]}, {\"marker\": {\"color\": \"green\"}, \"name\": \"Verandering prijs\", \"type\": \"bar\", \"uid\": \"87ce6ab3-0fb4-4fd8-954d-2795e2a03f8c\", \"visible\": false, \"x\": [\"2010\", \"2011\", \"2012\", \"2013\", \"2014\", \"2015\", \"2016\"], \"y\": [-2.4, -3.2, -7.2, -7.3, 0.4, 2.3, 3.9]}, {\"marker\": {\"color\": \"green\"}, \"name\": \"Verandering prijs\", \"type\": \"bar\", \"uid\": \"3a5f5999-b2b2-46f5-9224-302ca0e56f40\", \"visible\": false, \"x\": [\"2010\", \"2011\", \"2012\", \"2013\", \"2014\", \"2015\", \"2016\"], \"y\": [-2.3, -2.2, -6.1, -5.9, 1.2, 1.9, 4.1]}],\n",
       "                        {\"barmode\": \"group\", \"sliders\": [{\"active\": 0, \"currentvalue\": {\"prefix\": \"Provincie: \"}, \"pad\": {\"t\": 50}, \"steps\": [{\"args\": [\"visible\", [true, false, false, false, false, false, false, false, false, false, false, false]], \"label\": \"GR\", \"method\": \"restyle\"}, {\"args\": [\"visible\", [false, true, false, false, false, false, false, false, false, false, false, false]], \"label\": \"FR\", \"method\": \"restyle\"}, {\"args\": [\"visible\", [false, false, true, false, false, false, false, false, false, false, false, false]], \"label\": \"DR\", \"method\": \"restyle\"}, {\"args\": [\"visible\", [false, false, false, true, false, false, false, false, false, false, false, false]], \"label\": \"OV\", \"method\": \"restyle\"}, {\"args\": [\"visible\", [false, false, false, false, true, false, false, false, false, false, false, false]], \"label\": \"FL\", \"method\": \"restyle\"}, {\"args\": [\"visible\", [false, false, false, false, false, true, false, false, false, false, false, false]], \"label\": \"GD\", \"method\": \"restyle\"}, {\"args\": [\"visible\", [false, false, false, false, false, false, true, false, false, false, false, false]], \"label\": \"UT\", \"method\": \"restyle\"}, {\"args\": [\"visible\", [false, false, false, false, false, false, false, true, false, false, false, false]], \"label\": \"NH\", \"method\": \"restyle\"}, {\"args\": [\"visible\", [false, false, false, false, false, false, false, false, true, false, false, false]], \"label\": \"ZH\", \"method\": \"restyle\"}, {\"args\": [\"visible\", [false, false, false, false, false, false, false, false, false, true, false, false]], \"label\": \"ZL\", \"method\": \"restyle\"}, {\"args\": [\"visible\", [false, false, false, false, false, false, false, false, false, false, true, false]], \"label\": \"NB\", \"method\": \"restyle\"}, {\"args\": [\"visible\", [false, false, false, false, false, false, false, false, false, false, false, true]], \"label\": \"LB\", \"method\": \"restyle\"}]}], \"title\": {\"text\": \"Veranderingen in prijs ten opzichte van het vorige jaar\"}, \"xaxis\": {\"title\": {\"text\": \"Metingsjaar\"}}, \"yaxis\": {\"title\": {\"text\": \"Percentage Verandering/inflatie\"}}},\n",
       "                        {\"showLink\": false, \"linkText\": \"Export to plot.ly\", \"plotlyServerURL\": \"https://plot.ly\", \"responsive\": true}\n",
       "                    ).then(function(){\n",
       "                            \n",
       "var gd = document.getElementById('7977c70a-100e-41d6-b937-7624006beadc');\n",
       "var x = new MutationObserver(function (mutations, observer) {{\n",
       "        var display = window.getComputedStyle(gd).display;\n",
       "        if (!display || display === 'none') {{\n",
       "            console.log([gd, 'removed!']);\n",
       "            Plotly.purge(gd);\n",
       "            observer.disconnect();\n",
       "        }}\n",
       "}});\n",
       "\n",
       "// Listen for the removal of the full notebook cells\n",
       "var notebookContainer = gd.closest('#notebook-container');\n",
       "if (notebookContainer) {{\n",
       "    x.observe(notebookContainer, {childList: true});\n",
       "}}\n",
       "\n",
       "// Listen for the clearing of the current output cell\n",
       "var outputEl = gd.closest('.output');\n",
       "if (outputEl) {{\n",
       "    x.observe(outputEl, {childList: true});\n",
       "}}\n",
       "\n",
       "                        })\n",
       "                };\n",
       "                });\n",
       "            </script>\n",
       "        </div>"
      ]
     },
     "metadata": {},
     "output_type": "display_data"
    }
   ],
   "source": [
    "# Visualisatie 1 opgesplitst per provincie\n",
    "\n",
    "# Select province data only\n",
    "uf_years_provinces = df_clean_years.loc[df_clean_years['region'] != 'Nederland']\n",
    "\n",
    "uf_years_provinces.head(n=10)\n",
    "\n",
    "# Interactieve Multi-Bar graph prijsverandering per jaar en inflatiepercentage per jaar, per provincie\n",
    "provincies = list(['Groningen (PV)', 'Friesland (PV)', 'Drenthe (PV)', 'Overijssel (PV)', 'Flevoland (PV)', \n",
    "                  'Gelderland (PV)', 'Utrecht (PV)', 'Noord-Holland (PV)', 'Zuid-Holland (PV)', 'Zeeland (PV)', \n",
    "                  'Noord-Brabant (PV)', 'Limburg (PV)'])\n",
    "provincies_afkortingen_label = list(['GR', 'FR', 'DR','OV', 'FL', 'GD', 'UT', 'NH', 'ZH', 'ZL', 'NB', 'LB'])\n",
    "provincie_prijs_graphs = []\n",
    "provincie_sold_graphs = []\n",
    "\n",
    "# Maak alle bar sets aan voor voor de grafiek en maak ze onzichtbaar \n",
    "for prov in provincies:\n",
    "    provincie_prijs_trace = go.Bar(\n",
    "        x=uf_years_provinces[uf_years_provinces['region'] == prov]['period'],\n",
    "        y=uf_years_provinces[uf_years_provinces['region'] == prov]['change%_price_year'],\n",
    "        name='Verandering prijs',\n",
    "        visible=False,\n",
    "        marker = dict(color='green')\n",
    "    )\n",
    "    provincie_sold_trace = go.Bar(\n",
    "        x=uf_years_provinces[uf_years_provinces['region'] == prov]['period'],\n",
    "        y=uf_years_provinces[uf_years_provinces['region'] == prov]['change%_sold_year'],\n",
    "        name='Verandering aantal verkochte huizen',\n",
    "        visible=False,\n",
    "        marker = dict(color='green')\n",
    "    )\n",
    "    provincie_prijs_graphs.append(provincie_prijs_trace)\n",
    "    provincie_sold_graphs.append(provincie_sold_trace)\n",
    "\n",
    "groep_data_price = provincie_prijs_graphs\n",
    "groep_data_sold = provincie_sold_graphs\n",
    "\n",
    "# Maak de default data zichtbaar bij eerste afbeelding grafiek\n",
    "groep_data_price[0]['visible'] = True\n",
    "groep_data_sold[0]['visible'] = True\n",
    "\n",
    "# Maak de keuze slider aan\n",
    "provincie = []\n",
    "for item in range(0, len(groep_data_price)):\n",
    "    step = dict(\n",
    "        method = 'restyle',\n",
    "#        label='{}'.format(provincies_label[item]),\n",
    "        label='{}'.format(provincies_afkortingen_label[item]),\n",
    "        args = ['visible', [False] * (len(groep_data_price))],\n",
    "    )\n",
    "    step['args'][1][item] = True # Toggle i'th trace to \"visible\"\n",
    "    #step['args'][1][item+1] = True # Toggle i'th trace to \"visible\"\n",
    "    provincie.append(step)\n",
    "\n",
    "sliders = [dict(\n",
    "    active = 0,\n",
    "    currentvalue = {\"prefix\": \"Provincie: \"},\n",
    "    pad = {\"t\": 50},\n",
    "    steps = provincie\n",
    ")]\n",
    "\n",
    "# Maak de layout van de grafiek\n",
    "groep_layout_price = go.Layout(title = 'Veranderingen in prijs ten opzichte van het vorige jaar',\n",
    "              xaxis={'title':'Metingsjaar'},\n",
    "              yaxis={'title':'Percentage Verandering/inflatie'},\n",
    "    barmode='group',\n",
    "    sliders=sliders                     \n",
    ")\n",
    "\n",
    "groep_fig_price = go.Figure(data=groep_data_price, layout=groep_layout_price)\n",
    "iplot(groep_fig_price)"
   ]
  },
  {
   "cell_type": "markdown",
   "metadata": {},
   "source": [
    "Er kan nu op eenzelfde manier gekeken worden of het aantal verkochte huizen op dezelfde manier mee verandert om te ontdekken of er een correlatie is tussen de price index en het aantal verkochte woningen. In de grafiek is te zien dat het aantal verkochte huizen tot en met 2013 over het algemeen daalt waarna in 2014 een enorme stijging plaatsvindt."
   ]
  },
  {
   "cell_type": "code",
   "execution_count": 5,
   "metadata": {},
   "outputs": [
    {
     "data": {
      "application/vnd.plotly.v1+json": {
       "config": {
        "linkText": "Export to plot.ly",
        "plotlyServerURL": "https://plot.ly",
        "showLink": false
       },
       "data": [
        {
         "name": "Groningen",
         "type": "bar",
         "uid": "0a5fc2de-ee68-4b1e-9232-6981a01fbae8",
         "x": [
          "2010",
          "2011",
          "2012",
          "2013",
          "2014",
          "2015",
          "2016"
         ],
         "y": [
          -1.3,
          -5.8,
          -9.1,
          -3.5,
          32.3,
          14.2,
          18.7
         ]
        },
        {
         "name": "Friesland",
         "type": "bar",
         "uid": "652b5737-c86e-496b-9e88-2053856e127f",
         "x": [
          "2010",
          "2011",
          "2012",
          "2013",
          "2014",
          "2015",
          "2016"
         ],
         "y": [
          1.9,
          -7.5,
          -7.7,
          -3.8,
          40.4,
          15.3,
          20.9
         ]
        },
        {
         "name": "Drenthe",
         "type": "bar",
         "uid": "ea3830ce-3fc3-44cb-af5f-512e54ada7bd",
         "x": [
          "2010",
          "2011",
          "2012",
          "2013",
          "2014",
          "2015",
          "2016"
         ],
         "y": [
          -2.1,
          -5.9,
          -1.8,
          -3.6,
          28.9,
          19.1,
          22.2
         ]
        },
        {
         "name": "Overijssel",
         "type": "bar",
         "uid": "52f5a531-825a-429a-a085-c45ccf7b5e55",
         "x": [
          "2010",
          "2011",
          "2012",
          "2013",
          "2014",
          "2015",
          "2016"
         ],
         "y": [
          -0.4,
          -3.6,
          4,
          -12.8,
          34.1,
          14.1,
          25.2
         ]
        },
        {
         "name": "Flevoland",
         "type": "bar",
         "uid": "2f23bc27-404c-42d2-9d23-9543e82f1a2b",
         "x": [
          "2010",
          "2011",
          "2012",
          "2013",
          "2014",
          "2015",
          "2016"
         ],
         "y": [
          -11.7,
          -4.6,
          -0.5,
          -2.2,
          34.3,
          19.4,
          28.5
         ]
        },
        {
         "name": "Gelderland",
         "type": "bar",
         "uid": "2e1f050a-5532-4dad-8274-86edc992ae3c",
         "x": [
          "2010",
          "2011",
          "2012",
          "2013",
          "2014",
          "2015",
          "2016"
         ],
         "y": [
          0.4,
          -6.3,
          -1.9,
          -5.4,
          36.6,
          15.8,
          25.3
         ]
        },
        {
         "name": "Utrecht",
         "type": "bar",
         "uid": "a23223c4-56ee-40c0-8b5b-ed915e5640fa",
         "x": [
          "2010",
          "2011",
          "2012",
          "2013",
          "2014",
          "2015",
          "2016"
         ],
         "y": [
          1.6,
          -2.9,
          -4.8,
          -9.1,
          53.5,
          16.1,
          18.8
         ]
        },
        {
         "name": "Noord-Holland",
         "type": "bar",
         "uid": "b7327e10-19e0-4723-8b3e-577d515d9cb7",
         "x": [
          "2010",
          "2011",
          "2012",
          "2013",
          "2014",
          "2015",
          "2016"
         ],
         "y": [
          2.4,
          -2.9,
          -4.6,
          -3.1,
          48.5,
          17,
          11.5
         ]
        },
        {
         "name": "Zuid-Holland",
         "type": "bar",
         "uid": "362f7c1a-ea4d-4309-a316-2a5b60a0e28e",
         "x": [
          "2010",
          "2011",
          "2012",
          "2013",
          "2014",
          "2015",
          "2016"
         ],
         "y": [
          -5.4,
          -5.3,
          -5.4,
          -7.2,
          35.3,
          19.9,
          24
         ]
        },
        {
         "name": "Zeeland",
         "type": "bar",
         "uid": "5ac35de4-5609-4124-92b1-281164df8e60",
         "x": [
          "2010",
          "2011",
          "2012",
          "2013",
          "2014",
          "2015",
          "2016"
         ],
         "y": [
          -0.2,
          1.8,
          2.4,
          -5.9,
          25.2,
          6.7,
          19.7
         ]
        },
        {
         "name": "Brabant",
         "type": "bar",
         "uid": "af89309c-bddd-4a78-9d2f-7d93fe1180f2",
         "x": [
          "2010",
          "2011",
          "2012",
          "2013",
          "2014",
          "2015",
          "2016"
         ],
         "y": [
          0.8,
          -3.7,
          -0.7,
          -5.4,
          42.1,
          13.5,
          21.6
         ]
        },
        {
         "name": "Limburg",
         "type": "bar",
         "uid": "1ec1f5a0-4e89-4b45-9b4f-66230bf4ac98",
         "x": [
          "2010",
          "2011",
          "2012",
          "2013",
          "2014",
          "2015",
          "2016"
         ],
         "y": [
          -3.3,
          -3.7,
          2.5,
          -7.9,
          30.1,
          12.3,
          21.6
         ]
        }
       ],
       "layout": {
        "barmode": "group",
        "showlegend": true,
        "title": {
         "text": "Verandering aantal verkochte huizen per provincie per jaar"
        },
        "xaxis": {
         "title": {
          "text": "Jaar"
         },
         "type": "category"
        },
        "yaxis": {
         "title": {
          "text": "Verandering aantal verkochte huizen t.o.v. vorig jaar"
         }
        }
       }
      },
      "text/html": [
       "<div>\n",
       "        \n",
       "        \n",
       "            <div id=\"8df780f4-2112-41b8-ae4c-ab8220ba1840\" class=\"plotly-graph-div\" style=\"height:525px; width:100%;\"></div>\n",
       "            <script type=\"text/javascript\">\n",
       "                require([\"plotly\"], function(Plotly) {\n",
       "                    window.PLOTLYENV=window.PLOTLYENV || {};\n",
       "                    window.PLOTLYENV.BASE_URL='https://plot.ly';\n",
       "                    \n",
       "                if (document.getElementById(\"8df780f4-2112-41b8-ae4c-ab8220ba1840\")) {\n",
       "                    Plotly.newPlot(\n",
       "                        '8df780f4-2112-41b8-ae4c-ab8220ba1840',\n",
       "                        [{\"name\": \"Groningen\", \"type\": \"bar\", \"uid\": \"0a5fc2de-ee68-4b1e-9232-6981a01fbae8\", \"x\": [\"2010\", \"2011\", \"2012\", \"2013\", \"2014\", \"2015\", \"2016\"], \"y\": [-1.3, -5.8, -9.1, -3.5, 32.3, 14.2, 18.7]}, {\"name\": \"Friesland\", \"type\": \"bar\", \"uid\": \"652b5737-c86e-496b-9e88-2053856e127f\", \"x\": [\"2010\", \"2011\", \"2012\", \"2013\", \"2014\", \"2015\", \"2016\"], \"y\": [1.9, -7.5, -7.7, -3.8, 40.4, 15.3, 20.9]}, {\"name\": \"Drenthe\", \"type\": \"bar\", \"uid\": \"ea3830ce-3fc3-44cb-af5f-512e54ada7bd\", \"x\": [\"2010\", \"2011\", \"2012\", \"2013\", \"2014\", \"2015\", \"2016\"], \"y\": [-2.1, -5.9, -1.8, -3.6, 28.9, 19.1, 22.2]}, {\"name\": \"Overijssel\", \"type\": \"bar\", \"uid\": \"52f5a531-825a-429a-a085-c45ccf7b5e55\", \"x\": [\"2010\", \"2011\", \"2012\", \"2013\", \"2014\", \"2015\", \"2016\"], \"y\": [-0.4, -3.6, 4.0, -12.8, 34.1, 14.1, 25.2]}, {\"name\": \"Flevoland\", \"type\": \"bar\", \"uid\": \"2f23bc27-404c-42d2-9d23-9543e82f1a2b\", \"x\": [\"2010\", \"2011\", \"2012\", \"2013\", \"2014\", \"2015\", \"2016\"], \"y\": [-11.7, -4.6, -0.5, -2.2, 34.3, 19.4, 28.5]}, {\"name\": \"Gelderland\", \"type\": \"bar\", \"uid\": \"2e1f050a-5532-4dad-8274-86edc992ae3c\", \"x\": [\"2010\", \"2011\", \"2012\", \"2013\", \"2014\", \"2015\", \"2016\"], \"y\": [0.4, -6.3, -1.9, -5.4, 36.6, 15.8, 25.3]}, {\"name\": \"Utrecht\", \"type\": \"bar\", \"uid\": \"a23223c4-56ee-40c0-8b5b-ed915e5640fa\", \"x\": [\"2010\", \"2011\", \"2012\", \"2013\", \"2014\", \"2015\", \"2016\"], \"y\": [1.6, -2.9, -4.8, -9.1, 53.5, 16.1, 18.8]}, {\"name\": \"Noord-Holland\", \"type\": \"bar\", \"uid\": \"b7327e10-19e0-4723-8b3e-577d515d9cb7\", \"x\": [\"2010\", \"2011\", \"2012\", \"2013\", \"2014\", \"2015\", \"2016\"], \"y\": [2.4, -2.9, -4.6, -3.1, 48.5, 17.0, 11.5]}, {\"name\": \"Zuid-Holland\", \"type\": \"bar\", \"uid\": \"362f7c1a-ea4d-4309-a316-2a5b60a0e28e\", \"x\": [\"2010\", \"2011\", \"2012\", \"2013\", \"2014\", \"2015\", \"2016\"], \"y\": [-5.4, -5.3, -5.4, -7.2, 35.3, 19.9, 24.0]}, {\"name\": \"Zeeland\", \"type\": \"bar\", \"uid\": \"5ac35de4-5609-4124-92b1-281164df8e60\", \"x\": [\"2010\", \"2011\", \"2012\", \"2013\", \"2014\", \"2015\", \"2016\"], \"y\": [-0.2, 1.8, 2.4, -5.9, 25.2, 6.7, 19.7]}, {\"name\": \"Brabant\", \"type\": \"bar\", \"uid\": \"af89309c-bddd-4a78-9d2f-7d93fe1180f2\", \"x\": [\"2010\", \"2011\", \"2012\", \"2013\", \"2014\", \"2015\", \"2016\"], \"y\": [0.8, -3.7, -0.7, -5.4, 42.1, 13.5, 21.6]}, {\"name\": \"Limburg\", \"type\": \"bar\", \"uid\": \"1ec1f5a0-4e89-4b45-9b4f-66230bf4ac98\", \"x\": [\"2010\", \"2011\", \"2012\", \"2013\", \"2014\", \"2015\", \"2016\"], \"y\": [-3.3, -3.7, 2.5, -7.9, 30.1, 12.3, 21.6]}],\n",
       "                        {\"barmode\": \"group\", \"showlegend\": true, \"title\": {\"text\": \"Verandering aantal verkochte huizen per provincie per jaar\"}, \"xaxis\": {\"title\": {\"text\": \"Jaar\"}, \"type\": \"category\"}, \"yaxis\": {\"title\": {\"text\": \"Verandering aantal verkochte huizen t.o.v. vorig jaar\"}}},\n",
       "                        {\"showLink\": false, \"linkText\": \"Export to plot.ly\", \"plotlyServerURL\": \"https://plot.ly\", \"responsive\": true}\n",
       "                    ).then(function(){\n",
       "                            \n",
       "var gd = document.getElementById('8df780f4-2112-41b8-ae4c-ab8220ba1840');\n",
       "var x = new MutationObserver(function (mutations, observer) {{\n",
       "        var display = window.getComputedStyle(gd).display;\n",
       "        if (!display || display === 'none') {{\n",
       "            console.log([gd, 'removed!']);\n",
       "            Plotly.purge(gd);\n",
       "            observer.disconnect();\n",
       "        }}\n",
       "}});\n",
       "\n",
       "// Listen for the removal of the full notebook cells\n",
       "var notebookContainer = gd.closest('#notebook-container');\n",
       "if (notebookContainer) {{\n",
       "    x.observe(notebookContainer, {childList: true});\n",
       "}}\n",
       "\n",
       "// Listen for the clearing of the current output cell\n",
       "var outputEl = gd.closest('.output');\n",
       "if (outputEl) {{\n",
       "    x.observe(outputEl, {childList: true});\n",
       "}}\n",
       "\n",
       "                        })\n",
       "                };\n",
       "                });\n",
       "            </script>\n",
       "        </div>"
      ]
     },
     "metadata": {},
     "output_type": "display_data"
    }
   ],
   "source": [
    "# Visualisatie 2: Bar Chart procentuele verandering aantal verkochte huizen per provincie per jaar\n",
    "\n",
    "# Staafdiagram voor de prijsstijging door de jaren heen per provincie\n",
    "traceGR = go.Bar(\n",
    "    x = df_clean_years[df_clean_years['region'] == 'Groningen (PV)']['period'],\n",
    "    y = df_clean_years[df_clean_years['region'] == 'Groningen (PV)']['change%_sold_year'],\n",
    "    name = 'Groningen'\n",
    ")\n",
    "\n",
    "traceFr = go.Bar(\n",
    "    x = df_clean_years[df_clean_years['region'] == 'Friesland (PV)']['period'],\n",
    "    y = df_clean_years[df_clean_years['region'] == 'Friesland (PV)']['change%_sold_year'],\n",
    "    name = 'Friesland'\n",
    ")\n",
    "\n",
    "traceDre = go.Bar(\n",
    "    x = df_clean_years[df_clean_years['region'] == 'Drenthe (PV)']['period'],\n",
    "    y = df_clean_years[df_clean_years['region'] == 'Drenthe (PV)']['change%_sold_year'],\n",
    "    name = 'Drenthe'\n",
    ")\n",
    "\n",
    "traceOver = go.Bar(\n",
    "    x = df_clean_years[df_clean_years['region'] == 'Overijssel (PV)']['period'],\n",
    "    y = df_clean_years[df_clean_years['region'] == 'Overijssel (PV)']['change%_sold_year'],\n",
    "    name = 'Overijssel'\n",
    ")\n",
    "\n",
    "traceFL = go.Bar(\n",
    "    x = df_clean_years[df_clean_years['region'] == 'Flevoland (PV)']['period'],\n",
    "    y = df_clean_years[df_clean_years['region'] == 'Flevoland (PV)']['change%_sold_year'],\n",
    "    name = 'Flevoland'\n",
    ")\n",
    "\n",
    "traceGL = go.Bar(\n",
    "    x = df_clean_years[df_clean_years['region'] == 'Gelderland (PV)']['period'],\n",
    "    y = df_clean_years[df_clean_years['region'] == 'Gelderland (PV)']['change%_sold_year'],\n",
    "    name = 'Gelderland'\n",
    ")\n",
    "\n",
    "traceUtr = go.Bar(\n",
    "    x = df_clean_years[df_clean_years['region'] == 'Utrecht (PV)']['period'],\n",
    "    y = df_clean_years[df_clean_years['region'] == 'Utrecht (PV)']['change%_sold_year'],\n",
    "    name = 'Utrecht'\n",
    ")\n",
    "\n",
    "traceNH = go.Bar(\n",
    "    x = df_clean_years[df_clean_years['region'] == 'Noord-Holland (PV)']['period'],\n",
    "    y = df_clean_years[df_clean_years['region'] == 'Noord-Holland (PV)']['change%_sold_year'],\n",
    "    name = 'Noord-Holland'\n",
    ")\n",
    "\n",
    "traceZH = go.Bar(\n",
    "    x = df_clean_years[df_clean_years['region'] == 'Zuid-Holland (PV)']['period'],\n",
    "    y = df_clean_years[df_clean_years['region'] == 'Zuid-Holland (PV)']['change%_sold_year'],\n",
    "    name = 'Zuid-Holland'\n",
    ")\n",
    "\n",
    "traceZL = go.Bar(\n",
    "    x = df_clean_years[df_clean_years['region'] == 'Zeeland (PV)']['period'],\n",
    "    y = df_clean_years[df_clean_years['region'] == 'Zeeland (PV)']['change%_sold_year'],\n",
    "    name = 'Zeeland'\n",
    ")\n",
    "\n",
    "traceBR = go.Bar(\n",
    "    x = df_clean_years[df_clean_years['region'] == 'Noord-Brabant (PV)']['period'],\n",
    "    y = df_clean_years[df_clean_years['region'] == 'Noord-Brabant (PV)']['change%_sold_year'],\n",
    "    name = 'Brabant'\n",
    ")\n",
    "\n",
    "traceLim = go.Bar(\n",
    "    x = df_clean_years[df_clean_years['region'] == 'Limburg (PV)']['period'],\n",
    "    y = df_clean_years[df_clean_years['region'] == 'Limburg (PV)']['change%_sold_year'],\n",
    "    name = 'Limburg'\n",
    ")\n",
    "\n",
    "layout = go.Layout(\n",
    "    showlegend=True,\n",
    "    title=go.layout.Title(\n",
    "        text='Verandering aantal verkochte huizen per provincie per jaar',\n",
    "    ),\n",
    "    barmode='group',\n",
    "    xaxis=go.layout.XAxis(\n",
    "        type='category', # het type van de X as is categorisch\n",
    "        title=go.layout.xaxis.Title(\n",
    "            text='Jaar',\n",
    "        ),\n",
    "    ),\n",
    "    yaxis = go.layout.YAxis(\n",
    "        title=go.layout.yaxis.Title(\n",
    "            text='Verandering aantal verkochte huizen t.o.v. vorig jaar',\n",
    "        ),\n",
    "    )\n",
    ")\n",
    "\n",
    "fig1 = go.Figure(data=[traceGR, traceFr, traceDre, traceOver, traceFL, traceGL, traceUtr, traceNH, traceZH, traceZL, traceBR, traceLim], layout=layout)\n",
    "iplot(fig1)"
   ]
  },
  {
   "cell_type": "code",
   "execution_count": 6,
   "metadata": {},
   "outputs": [
    {
     "data": {
      "application/vnd.plotly.v1+json": {
       "config": {
        "linkText": "Export to plot.ly",
        "plotlyServerURL": "https://plot.ly",
        "showLink": false
       },
       "data": [
        {
         "marker": {
          "color": "green"
         },
         "name": "Verandering aantal verkochte huizen",
         "type": "bar",
         "uid": "d0b15d78-265a-4fb8-820b-e7607d180d00",
         "visible": true,
         "x": [
          "2010",
          "2011",
          "2012",
          "2013",
          "2014",
          "2015",
          "2016"
         ],
         "y": [
          -1.3,
          -5.8,
          -9.1,
          -3.5,
          32.3,
          14.2,
          18.7
         ]
        },
        {
         "marker": {
          "color": "green"
         },
         "name": "Verandering aantal verkochte huizen",
         "type": "bar",
         "uid": "23b84c21-aa32-48f8-94e2-896b757968fa",
         "visible": false,
         "x": [
          "2010",
          "2011",
          "2012",
          "2013",
          "2014",
          "2015",
          "2016"
         ],
         "y": [
          1.9,
          -7.5,
          -7.7,
          -3.8,
          40.4,
          15.3,
          20.9
         ]
        },
        {
         "marker": {
          "color": "green"
         },
         "name": "Verandering aantal verkochte huizen",
         "type": "bar",
         "uid": "89c5a8b9-7c12-411e-833a-34dea3be3659",
         "visible": false,
         "x": [
          "2010",
          "2011",
          "2012",
          "2013",
          "2014",
          "2015",
          "2016"
         ],
         "y": [
          -2.1,
          -5.9,
          -1.8,
          -3.6,
          28.9,
          19.1,
          22.2
         ]
        },
        {
         "marker": {
          "color": "green"
         },
         "name": "Verandering aantal verkochte huizen",
         "type": "bar",
         "uid": "920f79ab-751c-4626-88bb-b8037a309326",
         "visible": false,
         "x": [
          "2010",
          "2011",
          "2012",
          "2013",
          "2014",
          "2015",
          "2016"
         ],
         "y": [
          -0.4,
          -3.6,
          4,
          -12.8,
          34.1,
          14.1,
          25.2
         ]
        },
        {
         "marker": {
          "color": "green"
         },
         "name": "Verandering aantal verkochte huizen",
         "type": "bar",
         "uid": "34283900-4734-493f-9064-318b18bd9471",
         "visible": false,
         "x": [
          "2010",
          "2011",
          "2012",
          "2013",
          "2014",
          "2015",
          "2016"
         ],
         "y": [
          -11.7,
          -4.6,
          -0.5,
          -2.2,
          34.3,
          19.4,
          28.5
         ]
        },
        {
         "marker": {
          "color": "green"
         },
         "name": "Verandering aantal verkochte huizen",
         "type": "bar",
         "uid": "b840ae0a-0254-412d-88b8-0e8a2ad73ffa",
         "visible": false,
         "x": [
          "2010",
          "2011",
          "2012",
          "2013",
          "2014",
          "2015",
          "2016"
         ],
         "y": [
          0.4,
          -6.3,
          -1.9,
          -5.4,
          36.6,
          15.8,
          25.3
         ]
        },
        {
         "marker": {
          "color": "green"
         },
         "name": "Verandering aantal verkochte huizen",
         "type": "bar",
         "uid": "8d342b6e-6f49-4161-a6ed-236d39ff5cf3",
         "visible": false,
         "x": [
          "2010",
          "2011",
          "2012",
          "2013",
          "2014",
          "2015",
          "2016"
         ],
         "y": [
          1.6,
          -2.9,
          -4.8,
          -9.1,
          53.5,
          16.1,
          18.8
         ]
        },
        {
         "marker": {
          "color": "green"
         },
         "name": "Verandering aantal verkochte huizen",
         "type": "bar",
         "uid": "cef3a5e1-c0aa-4b6e-825a-a19107038192",
         "visible": false,
         "x": [
          "2010",
          "2011",
          "2012",
          "2013",
          "2014",
          "2015",
          "2016"
         ],
         "y": [
          2.4,
          -2.9,
          -4.6,
          -3.1,
          48.5,
          17,
          11.5
         ]
        },
        {
         "marker": {
          "color": "green"
         },
         "name": "Verandering aantal verkochte huizen",
         "type": "bar",
         "uid": "cdd2f44b-4e46-4e07-a274-edeae73db78a",
         "visible": false,
         "x": [
          "2010",
          "2011",
          "2012",
          "2013",
          "2014",
          "2015",
          "2016"
         ],
         "y": [
          -5.4,
          -5.3,
          -5.4,
          -7.2,
          35.3,
          19.9,
          24
         ]
        },
        {
         "marker": {
          "color": "green"
         },
         "name": "Verandering aantal verkochte huizen",
         "type": "bar",
         "uid": "cb607daa-a066-4b8a-9b79-c773b2b3d474",
         "visible": false,
         "x": [
          "2010",
          "2011",
          "2012",
          "2013",
          "2014",
          "2015",
          "2016"
         ],
         "y": [
          -0.2,
          1.8,
          2.4,
          -5.9,
          25.2,
          6.7,
          19.7
         ]
        },
        {
         "marker": {
          "color": "green"
         },
         "name": "Verandering aantal verkochte huizen",
         "type": "bar",
         "uid": "c22e50c5-32f1-4b50-90b0-131b6514f59b",
         "visible": false,
         "x": [
          "2010",
          "2011",
          "2012",
          "2013",
          "2014",
          "2015",
          "2016"
         ],
         "y": [
          0.8,
          -3.7,
          -0.7,
          -5.4,
          42.1,
          13.5,
          21.6
         ]
        },
        {
         "marker": {
          "color": "green"
         },
         "name": "Verandering aantal verkochte huizen",
         "type": "bar",
         "uid": "4d6be00c-5988-4cf4-bf69-4dae5993e269",
         "visible": false,
         "x": [
          "2010",
          "2011",
          "2012",
          "2013",
          "2014",
          "2015",
          "2016"
         ],
         "y": [
          -3.3,
          -3.7,
          2.5,
          -7.9,
          30.1,
          12.3,
          21.6
         ]
        }
       ],
       "layout": {
        "barmode": "group",
        "sliders": [
         {
          "active": 0,
          "currentvalue": {
           "prefix": "Provincie: "
          },
          "pad": {
           "t": 50
          },
          "steps": [
           {
            "args": [
             "visible",
             [
              true,
              false,
              false,
              false,
              false,
              false,
              false,
              false,
              false,
              false,
              false,
              false
             ]
            ],
            "label": "GR",
            "method": "restyle"
           },
           {
            "args": [
             "visible",
             [
              false,
              true,
              false,
              false,
              false,
              false,
              false,
              false,
              false,
              false,
              false,
              false
             ]
            ],
            "label": "FR",
            "method": "restyle"
           },
           {
            "args": [
             "visible",
             [
              false,
              false,
              true,
              false,
              false,
              false,
              false,
              false,
              false,
              false,
              false,
              false
             ]
            ],
            "label": "DR",
            "method": "restyle"
           },
           {
            "args": [
             "visible",
             [
              false,
              false,
              false,
              true,
              false,
              false,
              false,
              false,
              false,
              false,
              false,
              false
             ]
            ],
            "label": "OV",
            "method": "restyle"
           },
           {
            "args": [
             "visible",
             [
              false,
              false,
              false,
              false,
              true,
              false,
              false,
              false,
              false,
              false,
              false,
              false
             ]
            ],
            "label": "FL",
            "method": "restyle"
           },
           {
            "args": [
             "visible",
             [
              false,
              false,
              false,
              false,
              false,
              true,
              false,
              false,
              false,
              false,
              false,
              false
             ]
            ],
            "label": "GD",
            "method": "restyle"
           },
           {
            "args": [
             "visible",
             [
              false,
              false,
              false,
              false,
              false,
              false,
              true,
              false,
              false,
              false,
              false,
              false
             ]
            ],
            "label": "UT",
            "method": "restyle"
           },
           {
            "args": [
             "visible",
             [
              false,
              false,
              false,
              false,
              false,
              false,
              false,
              true,
              false,
              false,
              false,
              false
             ]
            ],
            "label": "NH",
            "method": "restyle"
           },
           {
            "args": [
             "visible",
             [
              false,
              false,
              false,
              false,
              false,
              false,
              false,
              false,
              true,
              false,
              false,
              false
             ]
            ],
            "label": "ZH",
            "method": "restyle"
           },
           {
            "args": [
             "visible",
             [
              false,
              false,
              false,
              false,
              false,
              false,
              false,
              false,
              false,
              true,
              false,
              false
             ]
            ],
            "label": "ZL",
            "method": "restyle"
           },
           {
            "args": [
             "visible",
             [
              false,
              false,
              false,
              false,
              false,
              false,
              false,
              false,
              false,
              false,
              true,
              false
             ]
            ],
            "label": "NB",
            "method": "restyle"
           },
           {
            "args": [
             "visible",
             [
              false,
              false,
              false,
              false,
              false,
              false,
              false,
              false,
              false,
              false,
              false,
              true
             ]
            ],
            "label": "LB",
            "method": "restyle"
           }
          ]
         }
        ],
        "title": {
         "text": "Verandering van aantal verkochte huizen in percentages per jaar per provincie"
        },
        "xaxis": {
         "title": {
          "text": "Jaar"
         }
        },
        "yaxis": {
         "title": {
          "text": "Percentage Verandering aantal verkochte huizen t.o.v. vorig jaar"
         }
        }
       }
      },
      "text/html": [
       "<div>\n",
       "        \n",
       "        \n",
       "            <div id=\"f1795d61-8230-44f0-ba1a-057aeaab7cbb\" class=\"plotly-graph-div\" style=\"height:525px; width:100%;\"></div>\n",
       "            <script type=\"text/javascript\">\n",
       "                require([\"plotly\"], function(Plotly) {\n",
       "                    window.PLOTLYENV=window.PLOTLYENV || {};\n",
       "                    window.PLOTLYENV.BASE_URL='https://plot.ly';\n",
       "                    \n",
       "                if (document.getElementById(\"f1795d61-8230-44f0-ba1a-057aeaab7cbb\")) {\n",
       "                    Plotly.newPlot(\n",
       "                        'f1795d61-8230-44f0-ba1a-057aeaab7cbb',\n",
       "                        [{\"marker\": {\"color\": \"green\"}, \"name\": \"Verandering aantal verkochte huizen\", \"type\": \"bar\", \"uid\": \"d0b15d78-265a-4fb8-820b-e7607d180d00\", \"visible\": true, \"x\": [\"2010\", \"2011\", \"2012\", \"2013\", \"2014\", \"2015\", \"2016\"], \"y\": [-1.3, -5.8, -9.1, -3.5, 32.3, 14.2, 18.7]}, {\"marker\": {\"color\": \"green\"}, \"name\": \"Verandering aantal verkochte huizen\", \"type\": \"bar\", \"uid\": \"23b84c21-aa32-48f8-94e2-896b757968fa\", \"visible\": false, \"x\": [\"2010\", \"2011\", \"2012\", \"2013\", \"2014\", \"2015\", \"2016\"], \"y\": [1.9, -7.5, -7.7, -3.8, 40.4, 15.3, 20.9]}, {\"marker\": {\"color\": \"green\"}, \"name\": \"Verandering aantal verkochte huizen\", \"type\": \"bar\", \"uid\": \"89c5a8b9-7c12-411e-833a-34dea3be3659\", \"visible\": false, \"x\": [\"2010\", \"2011\", \"2012\", \"2013\", \"2014\", \"2015\", \"2016\"], \"y\": [-2.1, -5.9, -1.8, -3.6, 28.9, 19.1, 22.2]}, {\"marker\": {\"color\": \"green\"}, \"name\": \"Verandering aantal verkochte huizen\", \"type\": \"bar\", \"uid\": \"920f79ab-751c-4626-88bb-b8037a309326\", \"visible\": false, \"x\": [\"2010\", \"2011\", \"2012\", \"2013\", \"2014\", \"2015\", \"2016\"], \"y\": [-0.4, -3.6, 4.0, -12.8, 34.1, 14.1, 25.2]}, {\"marker\": {\"color\": \"green\"}, \"name\": \"Verandering aantal verkochte huizen\", \"type\": \"bar\", \"uid\": \"34283900-4734-493f-9064-318b18bd9471\", \"visible\": false, \"x\": [\"2010\", \"2011\", \"2012\", \"2013\", \"2014\", \"2015\", \"2016\"], \"y\": [-11.7, -4.6, -0.5, -2.2, 34.3, 19.4, 28.5]}, {\"marker\": {\"color\": \"green\"}, \"name\": \"Verandering aantal verkochte huizen\", \"type\": \"bar\", \"uid\": \"b840ae0a-0254-412d-88b8-0e8a2ad73ffa\", \"visible\": false, \"x\": [\"2010\", \"2011\", \"2012\", \"2013\", \"2014\", \"2015\", \"2016\"], \"y\": [0.4, -6.3, -1.9, -5.4, 36.6, 15.8, 25.3]}, {\"marker\": {\"color\": \"green\"}, \"name\": \"Verandering aantal verkochte huizen\", \"type\": \"bar\", \"uid\": \"8d342b6e-6f49-4161-a6ed-236d39ff5cf3\", \"visible\": false, \"x\": [\"2010\", \"2011\", \"2012\", \"2013\", \"2014\", \"2015\", \"2016\"], \"y\": [1.6, -2.9, -4.8, -9.1, 53.5, 16.1, 18.8]}, {\"marker\": {\"color\": \"green\"}, \"name\": \"Verandering aantal verkochte huizen\", \"type\": \"bar\", \"uid\": \"cef3a5e1-c0aa-4b6e-825a-a19107038192\", \"visible\": false, \"x\": [\"2010\", \"2011\", \"2012\", \"2013\", \"2014\", \"2015\", \"2016\"], \"y\": [2.4, -2.9, -4.6, -3.1, 48.5, 17.0, 11.5]}, {\"marker\": {\"color\": \"green\"}, \"name\": \"Verandering aantal verkochte huizen\", \"type\": \"bar\", \"uid\": \"cdd2f44b-4e46-4e07-a274-edeae73db78a\", \"visible\": false, \"x\": [\"2010\", \"2011\", \"2012\", \"2013\", \"2014\", \"2015\", \"2016\"], \"y\": [-5.4, -5.3, -5.4, -7.2, 35.3, 19.9, 24.0]}, {\"marker\": {\"color\": \"green\"}, \"name\": \"Verandering aantal verkochte huizen\", \"type\": \"bar\", \"uid\": \"cb607daa-a066-4b8a-9b79-c773b2b3d474\", \"visible\": false, \"x\": [\"2010\", \"2011\", \"2012\", \"2013\", \"2014\", \"2015\", \"2016\"], \"y\": [-0.2, 1.8, 2.4, -5.9, 25.2, 6.7, 19.7]}, {\"marker\": {\"color\": \"green\"}, \"name\": \"Verandering aantal verkochte huizen\", \"type\": \"bar\", \"uid\": \"c22e50c5-32f1-4b50-90b0-131b6514f59b\", \"visible\": false, \"x\": [\"2010\", \"2011\", \"2012\", \"2013\", \"2014\", \"2015\", \"2016\"], \"y\": [0.8, -3.7, -0.7, -5.4, 42.1, 13.5, 21.6]}, {\"marker\": {\"color\": \"green\"}, \"name\": \"Verandering aantal verkochte huizen\", \"type\": \"bar\", \"uid\": \"4d6be00c-5988-4cf4-bf69-4dae5993e269\", \"visible\": false, \"x\": [\"2010\", \"2011\", \"2012\", \"2013\", \"2014\", \"2015\", \"2016\"], \"y\": [-3.3, -3.7, 2.5, -7.9, 30.1, 12.3, 21.6]}],\n",
       "                        {\"barmode\": \"group\", \"sliders\": [{\"active\": 0, \"currentvalue\": {\"prefix\": \"Provincie: \"}, \"pad\": {\"t\": 50}, \"steps\": [{\"args\": [\"visible\", [true, false, false, false, false, false, false, false, false, false, false, false]], \"label\": \"GR\", \"method\": \"restyle\"}, {\"args\": [\"visible\", [false, true, false, false, false, false, false, false, false, false, false, false]], \"label\": \"FR\", \"method\": \"restyle\"}, {\"args\": [\"visible\", [false, false, true, false, false, false, false, false, false, false, false, false]], \"label\": \"DR\", \"method\": \"restyle\"}, {\"args\": [\"visible\", [false, false, false, true, false, false, false, false, false, false, false, false]], \"label\": \"OV\", \"method\": \"restyle\"}, {\"args\": [\"visible\", [false, false, false, false, true, false, false, false, false, false, false, false]], \"label\": \"FL\", \"method\": \"restyle\"}, {\"args\": [\"visible\", [false, false, false, false, false, true, false, false, false, false, false, false]], \"label\": \"GD\", \"method\": \"restyle\"}, {\"args\": [\"visible\", [false, false, false, false, false, false, true, false, false, false, false, false]], \"label\": \"UT\", \"method\": \"restyle\"}, {\"args\": [\"visible\", [false, false, false, false, false, false, false, true, false, false, false, false]], \"label\": \"NH\", \"method\": \"restyle\"}, {\"args\": [\"visible\", [false, false, false, false, false, false, false, false, true, false, false, false]], \"label\": \"ZH\", \"method\": \"restyle\"}, {\"args\": [\"visible\", [false, false, false, false, false, false, false, false, false, true, false, false]], \"label\": \"ZL\", \"method\": \"restyle\"}, {\"args\": [\"visible\", [false, false, false, false, false, false, false, false, false, false, true, false]], \"label\": \"NB\", \"method\": \"restyle\"}, {\"args\": [\"visible\", [false, false, false, false, false, false, false, false, false, false, false, true]], \"label\": \"LB\", \"method\": \"restyle\"}]}], \"title\": {\"text\": \"Verandering van aantal verkochte huizen in percentages per jaar per provincie\"}, \"xaxis\": {\"title\": {\"text\": \"Jaar\"}}, \"yaxis\": {\"title\": {\"text\": \"Percentage Verandering aantal verkochte huizen t.o.v. vorig jaar\"}}},\n",
       "                        {\"showLink\": false, \"linkText\": \"Export to plot.ly\", \"plotlyServerURL\": \"https://plot.ly\", \"responsive\": true}\n",
       "                    ).then(function(){\n",
       "                            \n",
       "var gd = document.getElementById('f1795d61-8230-44f0-ba1a-057aeaab7cbb');\n",
       "var x = new MutationObserver(function (mutations, observer) {{\n",
       "        var display = window.getComputedStyle(gd).display;\n",
       "        if (!display || display === 'none') {{\n",
       "            console.log([gd, 'removed!']);\n",
       "            Plotly.purge(gd);\n",
       "            observer.disconnect();\n",
       "        }}\n",
       "}});\n",
       "\n",
       "// Listen for the removal of the full notebook cells\n",
       "var notebookContainer = gd.closest('#notebook-container');\n",
       "if (notebookContainer) {{\n",
       "    x.observe(notebookContainer, {childList: true});\n",
       "}}\n",
       "\n",
       "// Listen for the clearing of the current output cell\n",
       "var outputEl = gd.closest('.output');\n",
       "if (outputEl) {{\n",
       "    x.observe(outputEl, {childList: true});\n",
       "}}\n",
       "\n",
       "                        })\n",
       "                };\n",
       "                });\n",
       "            </script>\n",
       "        </div>"
      ]
     },
     "metadata": {},
     "output_type": "display_data"
    }
   ],
   "source": [
    "# Bar Chart verandering verkochte huizen opgesplitst per provincie\n",
    "\n",
    "groep_layout_sold = go.Layout(title = 'Verandering van aantal verkochte huizen in percentages per jaar per provincie',\n",
    "              xaxis={'title':'Jaar'},\n",
    "              yaxis={'title':'Percentage Verandering aantal verkochte huizen t.o.v. vorig jaar'},\n",
    "    barmode='group',\n",
    "    sliders=sliders                     \n",
    ")\n",
    "\n",
    "groep_fig_sold = go.Figure(data=groep_data_sold, layout=groep_layout_sold)\n",
    "iplot(groep_fig_sold)"
   ]
  },
  {
   "cell_type": "code",
   "execution_count": 7,
   "metadata": {},
   "outputs": [],
   "source": [
    "# Vind de gemiddelde procentuele verandering per jaar van het aantal verkochte huizen per provincie\n",
    "mean_groningen_housesold_change = df_clean_years[df_clean_years['region'] == 'Groningen (PV)']['change%_sold_year'].mean()\n",
    "mean_noord_housesold_change = df_clean_years[df_clean_years['region'] == 'Noord-Holland (PV)']['change%_sold_year'].mean()\n",
    "mean_zuid_housesold_change = df_clean_years[df_clean_years['region'] == 'Zuid-Holland (PV)']['change%_sold_year'].mean()\n",
    "mean_zeeland_housesold_change = df_clean_years[df_clean_years['region'] == 'Zeeland (PV)']['change%_sold_year'].mean()\n",
    "mean_friesland_housesold_change = df_clean_years[df_clean_years['region'] == 'Friesland (PV)']['change%_sold_year'].mean()\n",
    "mean_brabant_housesold_change = df_clean_years[df_clean_years['region'] == 'Noord-Brabant (PV)']['change%_sold_year'].mean()\n",
    "mean_limburg_housesold_change = df_clean_years[df_clean_years['region'] == 'Limburg (PV)']['change%_sold_year'].mean()\n",
    "mean_utrecht_housesold_change = df_clean_years[df_clean_years['region'] == 'Utrecht (PV)']['change%_sold_year'].mean()\n",
    "mean_drenthe_housesold_change = df_clean_years[df_clean_years['region'] == 'Zuid-Holland (PV)']['change%_sold_year'].mean()\n",
    "mean_overijssel_housesold_change = df_clean_years[df_clean_years['region'] == 'Overijssel (PV)']['change%_sold_year'].mean()\n",
    "mean_gelderland_housesold_change = df_clean_years[df_clean_years['region'] == 'Gelderland (PV)']['change%_sold_year'].mean()\n",
    "mean_flevoland_housesold_change = df_clean_years[df_clean_years['region'] == 'Flevoland (PV)']['change%_sold_year'].mean()\n",
    "\n",
    "# Maak een lijst aan met alle gemiddeldes zodat deze geplot kan worden\n",
    "province_means_housesold_changes = []\n",
    "province_means_housesold_changes.extend([mean_groningen_housesold_change, mean_friesland_housesold_change, mean_drenthe_housesold_change, mean_overijssel_housesold_change, mean_flevoland_housesold_change, mean_gelderland_housesold_change, mean_utrecht_housesold_change, mean_noord_housesold_change, mean_zuid_housesold_change, mean_zeeland_housesold_change, mean_brabant_housesold_change, mean_limburg_housesold_change])\n",
    "\n",
    "# Vind de gemiddelde procentuele verandering per jaar van de price index per provincie\n",
    "mean_groningen_price_change = df_clean_years[df_clean_years['region'] == 'Groningen (PV)']['change%_price_year'].mean()\n",
    "mean_noord_price_change = df_clean_years[df_clean_years['region'] == 'Noord-Holland (PV)']['change%_price_year'].mean()\n",
    "mean_zuid_price_change = df_clean_years[df_clean_years['region'] == 'Zuid-Holland (PV)']['change%_price_year'].mean()\n",
    "mean_zeeland_price_change = df_clean_years[df_clean_years['region'] == 'Zeeland (PV)']['change%_price_year'].mean()\n",
    "mean_friesland_price_change = df_clean_years[df_clean_years['region'] == 'Friesland (PV)']['change%_price_year'].mean()\n",
    "mean_brabant_price_change = df_clean_years[df_clean_years['region'] == 'Noord-Brabant (PV)']['change%_price_year'].mean()\n",
    "mean_limburg_price_change = df_clean_years[df_clean_years['region'] == 'Limburg (PV)']['change%_price_year'].mean()\n",
    "mean_utrecht_price_change = df_clean_years[df_clean_years['region'] == 'Utrecht (PV)']['change%_price_year'].mean()\n",
    "mean_drenthe_price_change = df_clean_years[df_clean_years['region'] == 'Zuid-Holland (PV)']['change%_price_year'].mean()\n",
    "mean_overijssel_price_change = df_clean_years[df_clean_years['region'] == 'Overijssel (PV)']['change%_price_year'].mean()\n",
    "mean_gelderland_price_change = df_clean_years[df_clean_years['region'] == 'Gelderland (PV)']['change%_price_year'].mean()\n",
    "mean_flevoland_price_change = df_clean_years[df_clean_years['region'] == 'Flevoland (PV)']['change%_price_year'].mean()\n",
    "\n",
    "# Maak een lijst aan met alle gemiddeldes zodat deze geplot kan worden\n",
    "province_means_price_changes = []\n",
    "province_means_price_changes.extend([mean_groningen_price_change, mean_friesland_price_change, mean_drenthe_price_change, mean_overijssel_price_change, mean_flevoland_price_change, mean_gelderland_price_change, mean_utrecht_price_change, mean_noord_price_change, mean_zuid_price_change, mean_zeeland_price_change, mean_brabant_price_change, mean_limburg_price_change])\n",
    "\n",
    "# Maak een lijst die de namen van de provincies bevat om deze te koppelen aan de gemiddelde waardes\n",
    "province_list = ['Groningen', 'Friesland', 'Drenthe', 'Overijssel', 'Flevoland', 'Gelderland', 'Utrecht', 'Noord-Holland', 'Zuid-Holland', 'Zeeland', 'Brabant', 'Limburg']"
   ]
  },
  {
   "cell_type": "markdown",
   "metadata": {},
   "source": [
    "Om een duidelijker beeld te schetsen van wat de veranderingen zijn in aantal verkochte woningen wordt een gemiddelde aangegeven over de verkochte woningen per provincie. Over de afgelopen 7 jaar blijkt in Utrecht de sterkste groei van het aantal verkochte huizen te zijn, in Zeeland groeit dit het minst. Wel liggen alle provincies qua groei redelijk dicht bij elkaar."
   ]
  },
  {
   "cell_type": "code",
   "execution_count": 8,
   "metadata": {},
   "outputs": [
    {
     "data": {
      "application/vnd.plotly.v1+json": {
       "config": {
        "linkText": "Export to plot.ly",
        "plotlyServerURL": "https://plot.ly",
        "showLink": false
       },
       "data": [
        {
         "labels": [
          "Groningen",
          "Friesland",
          "Drenthe",
          "Overijssel",
          "Flevoland",
          "Gelderland",
          "Utrecht",
          "Noord-Holland",
          "Zuid-Holland",
          "Zeeland",
          "Brabant",
          "Limburg"
         ],
         "text": [
          "Groningen",
          "Friesland",
          "Drenthe",
          "Overijssel",
          "Flevoland",
          "Gelderland",
          "Utrecht",
          "Noord-Holland",
          "Zuid-Holland",
          "Zeeland",
          "Brabant",
          "Limburg"
         ],
         "type": "pie",
         "uid": "1befc8a8-4243-4df8-b485-3e0c7dee8c4b",
         "values": [
          6.5,
          8.499999999999998,
          7.985714285714285,
          8.657142857142857,
          9.028571428571428,
          9.214285714285714,
          10.457142857142857,
          9.828571428571427,
          7.985714285714285,
          7.1,
          9.742857142857144,
          7.371428571428573
         ]
        }
       ],
       "layout": {
        "title": {
         "text": "Gemiddelde procentuele toename aantal verkochte huizen in Nederland per provincie"
        }
       }
      },
      "text/html": [
       "<div>\n",
       "        \n",
       "        \n",
       "            <div id=\"1dee3f8d-543c-47f5-a7cb-1e6960a0ef42\" class=\"plotly-graph-div\" style=\"height:525px; width:100%;\"></div>\n",
       "            <script type=\"text/javascript\">\n",
       "                require([\"plotly\"], function(Plotly) {\n",
       "                    window.PLOTLYENV=window.PLOTLYENV || {};\n",
       "                    window.PLOTLYENV.BASE_URL='https://plot.ly';\n",
       "                    \n",
       "                if (document.getElementById(\"1dee3f8d-543c-47f5-a7cb-1e6960a0ef42\")) {\n",
       "                    Plotly.newPlot(\n",
       "                        '1dee3f8d-543c-47f5-a7cb-1e6960a0ef42',\n",
       "                        [{\"labels\": [\"Groningen\", \"Friesland\", \"Drenthe\", \"Overijssel\", \"Flevoland\", \"Gelderland\", \"Utrecht\", \"Noord-Holland\", \"Zuid-Holland\", \"Zeeland\", \"Brabant\", \"Limburg\"], \"text\": [\"Groningen\", \"Friesland\", \"Drenthe\", \"Overijssel\", \"Flevoland\", \"Gelderland\", \"Utrecht\", \"Noord-Holland\", \"Zuid-Holland\", \"Zeeland\", \"Brabant\", \"Limburg\"], \"type\": \"pie\", \"uid\": \"1befc8a8-4243-4df8-b485-3e0c7dee8c4b\", \"values\": [6.5, 8.499999999999998, 7.985714285714285, 8.657142857142857, 9.028571428571428, 9.214285714285714, 10.457142857142857, 9.828571428571427, 7.985714285714285, 7.1, 9.742857142857144, 7.371428571428573]}],\n",
       "                        {\"title\": {\"text\": \"Gemiddelde procentuele toename aantal verkochte huizen in Nederland per provincie\"}},\n",
       "                        {\"showLink\": false, \"linkText\": \"Export to plot.ly\", \"plotlyServerURL\": \"https://plot.ly\", \"responsive\": true}\n",
       "                    ).then(function(){\n",
       "                            \n",
       "var gd = document.getElementById('1dee3f8d-543c-47f5-a7cb-1e6960a0ef42');\n",
       "var x = new MutationObserver(function (mutations, observer) {{\n",
       "        var display = window.getComputedStyle(gd).display;\n",
       "        if (!display || display === 'none') {{\n",
       "            console.log([gd, 'removed!']);\n",
       "            Plotly.purge(gd);\n",
       "            observer.disconnect();\n",
       "        }}\n",
       "}});\n",
       "\n",
       "// Listen for the removal of the full notebook cells\n",
       "var notebookContainer = gd.closest('#notebook-container');\n",
       "if (notebookContainer) {{\n",
       "    x.observe(notebookContainer, {childList: true});\n",
       "}}\n",
       "\n",
       "// Listen for the clearing of the current output cell\n",
       "var outputEl = gd.closest('.output');\n",
       "if (outputEl) {{\n",
       "    x.observe(outputEl, {childList: true});\n",
       "}}\n",
       "\n",
       "                        })\n",
       "                };\n",
       "                });\n",
       "            </script>\n",
       "        </div>"
      ]
     },
     "metadata": {},
     "output_type": "display_data"
    }
   ],
   "source": [
    "#VISUALISATIE 3: PIE CHART VERANDERING % VERKOCHTE HUIZEN\n",
    "\n",
    "# Trace bestaande uit gemiddelde\n",
    "trace=go.Pie(\n",
    "    labels= province_list,\n",
    "    values= province_means_housesold_changes,\n",
    "    text= province_list,\n",
    ")\n",
    "\n",
    "\n",
    "layout = go.Layout(\n",
    "    title=go.layout.Title(\n",
    "        text='Gemiddelde procentuele toename aantal verkochte huizen in Nederland per provincie',\n",
    "    ),\n",
    ")\n",
    "\n",
    "fig2 = go.Figure(data=[trace], layout=layout)\n",
    "iplot(fig2)"
   ]
  },
  {
   "cell_type": "markdown",
   "metadata": {},
   "source": [
    "Dit gemiddelde kan nu vergeleken worden met de gemiddelde verandering van de price index in dezelfde periode. Hiermee kan nu het verband duidelijker worden geanalyseerd. Er blijkt hier een onverwachte uitkomst op te treden. In iedere provincie daalt de price index terwijl het aantal verkochte huizen overal stijgt. Dit zou erop wijzen dat er een negatief verband zou bestaan tussen de price index en het aantal verkochte huizen, wat het tegenovergestelde is van de verwachting. Er is meer onderzoek nodig om te achterhalen wat de uiteindelijke oorzaak hiervoor is."
   ]
  },
  {
   "cell_type": "code",
   "execution_count": 9,
   "metadata": {},
   "outputs": [
    {
     "data": {
      "application/vnd.plotly.v1+json": {
       "config": {
        "linkText": "Export to plot.ly",
        "plotlyServerURL": "https://plot.ly",
        "showLink": false
       },
       "data": [
        {
         "labels": [
          "Groningen",
          "Friesland",
          "Drenthe",
          "Overijssel",
          "Flevoland",
          "Gelderland",
          "Utrecht",
          "Noord-Holland",
          "Zuid-Holland",
          "Zeeland",
          "Brabant",
          "Limburg"
         ],
         "text": [
          "Groningen",
          "Friesland",
          "Drenthe",
          "Overijssel",
          "Flevoland",
          "Gelderland",
          "Utrecht",
          "Noord-Holland",
          "Zuid-Holland",
          "Zeeland",
          "Brabant",
          "Limburg"
         ],
         "type": "pie",
         "uid": "e238c289-cf3f-41b3-ba6d-64fee1967fd4",
         "values": [
          1.3571428571428577,
          1.9714285714285713,
          0.9999999999999999,
          1.5571428571428567,
          1.2428571428571427,
          1.985714285714286,
          0.8428571428571431,
          0.20000000000000032,
          0.9999999999999999,
          1.3142857142857143,
          1.9285714285714288,
          1.3285714285714287
         ]
        }
       ],
       "layout": {
        "title": {
         "text": "Gemiddelde daling Price Index in Nederland per provincie"
        }
       }
      },
      "text/html": [
       "<div>\n",
       "        \n",
       "        \n",
       "            <div id=\"cba8f2e5-40bf-4e7a-9d70-dc094079dba7\" class=\"plotly-graph-div\" style=\"height:525px; width:100%;\"></div>\n",
       "            <script type=\"text/javascript\">\n",
       "                require([\"plotly\"], function(Plotly) {\n",
       "                    window.PLOTLYENV=window.PLOTLYENV || {};\n",
       "                    window.PLOTLYENV.BASE_URL='https://plot.ly';\n",
       "                    \n",
       "                if (document.getElementById(\"cba8f2e5-40bf-4e7a-9d70-dc094079dba7\")) {\n",
       "                    Plotly.newPlot(\n",
       "                        'cba8f2e5-40bf-4e7a-9d70-dc094079dba7',\n",
       "                        [{\"labels\": [\"Groningen\", \"Friesland\", \"Drenthe\", \"Overijssel\", \"Flevoland\", \"Gelderland\", \"Utrecht\", \"Noord-Holland\", \"Zuid-Holland\", \"Zeeland\", \"Brabant\", \"Limburg\"], \"text\": [\"Groningen\", \"Friesland\", \"Drenthe\", \"Overijssel\", \"Flevoland\", \"Gelderland\", \"Utrecht\", \"Noord-Holland\", \"Zuid-Holland\", \"Zeeland\", \"Brabant\", \"Limburg\"], \"type\": \"pie\", \"uid\": \"e238c289-cf3f-41b3-ba6d-64fee1967fd4\", \"values\": [1.3571428571428577, 1.9714285714285713, 0.9999999999999999, 1.5571428571428567, 1.2428571428571427, 1.985714285714286, 0.8428571428571431, 0.20000000000000032, 0.9999999999999999, 1.3142857142857143, 1.9285714285714288, 1.3285714285714287]}],\n",
       "                        {\"title\": {\"text\": \"Gemiddelde daling Price Index in Nederland per provincie\"}},\n",
       "                        {\"showLink\": false, \"linkText\": \"Export to plot.ly\", \"plotlyServerURL\": \"https://plot.ly\", \"responsive\": true}\n",
       "                    ).then(function(){\n",
       "                            \n",
       "var gd = document.getElementById('cba8f2e5-40bf-4e7a-9d70-dc094079dba7');\n",
       "var x = new MutationObserver(function (mutations, observer) {{\n",
       "        var display = window.getComputedStyle(gd).display;\n",
       "        if (!display || display === 'none') {{\n",
       "            console.log([gd, 'removed!']);\n",
       "            Plotly.purge(gd);\n",
       "            observer.disconnect();\n",
       "        }}\n",
       "}});\n",
       "\n",
       "// Listen for the removal of the full notebook cells\n",
       "var notebookContainer = gd.closest('#notebook-container');\n",
       "if (notebookContainer) {{\n",
       "    x.observe(notebookContainer, {childList: true});\n",
       "}}\n",
       "\n",
       "// Listen for the clearing of the current output cell\n",
       "var outputEl = gd.closest('.output');\n",
       "if (outputEl) {{\n",
       "    x.observe(outputEl, {childList: true});\n",
       "}}\n",
       "\n",
       "                        })\n",
       "                };\n",
       "                });\n",
       "            </script>\n",
       "        </div>"
      ]
     },
     "metadata": {},
     "output_type": "display_data"
    }
   ],
   "source": [
    "# Pie Chart gemiddelde procentuele verandering price index per provincie\n",
    "\n",
    "# Toon de gemiddelde verandering van de Price Index per provincie\n",
    "\n",
    "# print('Gemiddelde procentuele verandering Price Index per provincie over de afgelopen 7 jaar:')\n",
    "# for item in range(0,len(province_list)):\n",
    "#     print(province_list[item],end='')\n",
    "#     print(':', end=' ')\n",
    "#     print(province_means_price_changes[item])\n",
    "\n",
    "# Gezien voor iedere provincie de Price Index gemiddeld daalde kan door de absolute waarde \n",
    "# een Pie Chart van de daling worden gemaakt\n",
    "\n",
    "province_price_abs = []\n",
    "for value in province_means_price_changes:\n",
    "    abs_value = abs(value)\n",
    "    province_price_abs.append(abs_value)\n",
    "\n",
    "trace=go.Pie(\n",
    "    labels= province_list,\n",
    "    values= province_price_abs,\n",
    "    text= province_list,\n",
    ")\n",
    "\n",
    "\n",
    "layout = go.Layout(\n",
    "    title=go.layout.Title(\n",
    "        text='Gemiddelde daling Price Index in Nederland per provincie',\n",
    "    ),\n",
    ")\n",
    "\n",
    "fig3 = go.Figure(data=[trace], layout=layout)\n",
    "iplot(fig3)"
   ]
  },
  {
   "cell_type": "markdown",
   "metadata": {},
   "source": [
    "\n",
    "Er kan nu een scatterplot worden gemaakt waarbij het verband wordt geanalyseerd tussen de verandering in huizen prijzen en de verandering in aantal verkochte huizen per provincie per jaar, om de correlatie te vinden tussen deze 2 variabelen. Hieruit blijkt een duidelijk verband te bestaan tussen de price index en het aantal verkochte huizen per provincie wanneer de data over alle jaren meegenomen wordt. De correlatie tussen deze 2 variabelen blijkt in dit geval 0.70.\n"
   ]
  },
  {
   "cell_type": "code",
   "execution_count": 10,
   "metadata": {
    "scrolled": false
   },
   "outputs": [
    {
     "data": {
      "application/vnd.plotly.v1+json": {
       "config": {
        "linkText": "Export to plot.ly",
        "plotlyServerURL": "https://plot.ly",
        "showLink": false
       },
       "data": [
        {
         "mode": "markers",
         "name": "Groningen",
         "type": "scatter",
         "uid": "6700c2df-9156-4f91-9fda-65d5a764bb03",
         "x": [
          -1.2,
          -3.1,
          -6.4,
          -5.4,
          -0.8,
          2.7,
          4.7
         ],
         "y": [
          -1.3,
          -5.8,
          -9.1,
          -3.5,
          32.3,
          14.2,
          18.7
         ]
        },
        {
         "mode": "markers",
         "name": "Friesland",
         "type": "scatter",
         "uid": "0bace789-400f-41bd-a411-79991dad60e6",
         "x": [
          -0.6,
          -4.3,
          -6.4,
          -7.2,
          -1.2,
          2,
          3.9
         ],
         "y": [
          1.9,
          -7.5,
          -7.7,
          -3.8,
          40.4,
          15.3,
          20.9
         ]
        },
        {
         "mode": "markers",
         "name": "Drenthe",
         "type": "scatter",
         "uid": "f4554aa6-373f-4911-9b4c-e2bfea40cf23",
         "x": [
          -2.1,
          -2.7,
          -5.7,
          -7.3,
          -0.2,
          1.6,
          2.1
         ],
         "y": [
          -2.1,
          -5.9,
          -1.8,
          -3.6,
          28.9,
          19.1,
          22.2
         ]
        },
        {
         "mode": "markers",
         "name": "Overijssel",
         "type": "scatter",
         "uid": "78107134-daa5-4ade-b7ac-65b0bec0a756",
         "x": [
          -1.9,
          -2.9,
          -5.1,
          -6.4,
          0.6,
          0.9,
          3.9
         ],
         "y": [
          -0.4,
          -3.6,
          4,
          -12.8,
          34.1,
          14.1,
          25.2
         ]
        },
        {
         "mode": "markers",
         "name": "Flevoland",
         "type": "scatter",
         "uid": "a5bd65b9-40b4-4a4a-a675-764128a5b2ff",
         "x": [
          -2.7,
          -2.7,
          -5.3,
          -5.1,
          0.9,
          1.4,
          4.8
         ],
         "y": [
          -11.7,
          -4.6,
          -0.5,
          -2.2,
          34.3,
          19.4,
          28.5
         ]
        },
        {
         "mode": "markers",
         "name": "Gelderland",
         "type": "scatter",
         "uid": "17333431-1483-4e5b-a59d-81c58b6efc81",
         "x": [
          -2.1,
          -3.2,
          -6.9,
          -6.9,
          -0.3,
          2,
          3.5
         ],
         "y": [
          0.4,
          -6.3,
          -1.9,
          -5.4,
          36.6,
          15.8,
          25.3
         ]
        },
        {
         "mode": "markers",
         "name": "Utrecht",
         "type": "scatter",
         "uid": "50c92a7c-ceb2-4eb2-a49f-832977598c23",
         "x": [
          -2.3,
          -2.5,
          -6.6,
          -6.6,
          1.9,
          3.9,
          6.3
         ],
         "y": [
          1.6,
          -2.9,
          -4.8,
          -9.1,
          53.5,
          16.1,
          18.8
         ]
        },
        {
         "mode": "markers",
         "name": "Noord-Holland",
         "type": "scatter",
         "uid": "fa41c2e1-905a-4355-9ea6-419bcb711fb9",
         "x": [
          -2.8,
          -1.3,
          -6.4,
          -7.1,
          2.7,
          5.3,
          8.2
         ],
         "y": [
          2.4,
          -2.9,
          -4.6,
          -3.1,
          48.5,
          17,
          11.5
         ]
        },
        {
         "mode": "markers",
         "name": "Zuid-Holland",
         "type": "scatter",
         "uid": "a9c197cc-3156-426b-ac73-af35552780ed",
         "x": [
          -2.2,
          -1.7,
          -6.4,
          -6.1,
          1.2,
          3,
          5.2
         ],
         "y": [
          -5.4,
          -5.3,
          -5.4,
          -7.2,
          35.3,
          19.9,
          24
         ]
        },
        {
         "mode": "markers",
         "name": "Zeeland",
         "type": "scatter",
         "uid": "db601431-cde0-45d8-879a-2bd80782cb95",
         "x": [
          -2.1,
          -1,
          -5.2,
          -2.7,
          -1,
          0.4,
          2.4
         ],
         "y": [
          -0.2,
          1.8,
          2.4,
          -5.9,
          25.2,
          6.7,
          19.7
         ]
        },
        {
         "mode": "markers",
         "name": "Brabant",
         "type": "scatter",
         "uid": "e876f7d6-12b3-4d79-a170-fcbc63b6f138",
         "x": [
          -2.4,
          -3.2,
          -7.2,
          -7.3,
          0.4,
          2.3,
          3.9
         ],
         "y": [
          0.8,
          -3.7,
          -0.7,
          -5.4,
          42.1,
          13.5,
          21.6
         ]
        },
        {
         "mode": "markers",
         "name": "Limburg",
         "type": "scatter",
         "uid": "43daf1ba-4554-4ca1-b4d9-7adbffe4123f",
         "x": [
          -2.3,
          -2.2,
          -6.1,
          -5.9,
          1.2,
          1.9,
          4.1
         ],
         "y": [
          -3.3,
          -3.7,
          2.5,
          -7.9,
          30.1,
          12.3,
          21.6
         ]
        }
       ],
       "layout": {
        "title": {
         "text": "Correlatie verandering Price Index en Verkochte Huizen tussen Provincies"
        },
        "xaxis": {
         "title": {
          "text": "Gemiddelde verandering % price index"
         }
        },
        "yaxis": {
         "title": {
          "text": "Gemiddelde verandering % verkochte huizen"
         }
        }
       }
      },
      "text/html": [
       "<div>\n",
       "        \n",
       "        \n",
       "            <div id=\"333f7efe-02c6-4222-ad8b-254f278699bd\" class=\"plotly-graph-div\" style=\"height:525px; width:100%;\"></div>\n",
       "            <script type=\"text/javascript\">\n",
       "                require([\"plotly\"], function(Plotly) {\n",
       "                    window.PLOTLYENV=window.PLOTLYENV || {};\n",
       "                    window.PLOTLYENV.BASE_URL='https://plot.ly';\n",
       "                    \n",
       "                if (document.getElementById(\"333f7efe-02c6-4222-ad8b-254f278699bd\")) {\n",
       "                    Plotly.newPlot(\n",
       "                        '333f7efe-02c6-4222-ad8b-254f278699bd',\n",
       "                        [{\"mode\": \"markers\", \"name\": \"Groningen\", \"type\": \"scatter\", \"uid\": \"6700c2df-9156-4f91-9fda-65d5a764bb03\", \"x\": [-1.2, -3.1, -6.4, -5.4, -0.8, 2.7, 4.7], \"y\": [-1.3, -5.8, -9.1, -3.5, 32.3, 14.2, 18.7]}, {\"mode\": \"markers\", \"name\": \"Friesland\", \"type\": \"scatter\", \"uid\": \"0bace789-400f-41bd-a411-79991dad60e6\", \"x\": [-0.6, -4.3, -6.4, -7.2, -1.2, 2.0, 3.9], \"y\": [1.9, -7.5, -7.7, -3.8, 40.4, 15.3, 20.9]}, {\"mode\": \"markers\", \"name\": \"Drenthe\", \"type\": \"scatter\", \"uid\": \"f4554aa6-373f-4911-9b4c-e2bfea40cf23\", \"x\": [-2.1, -2.7, -5.7, -7.3, -0.2, 1.6, 2.1], \"y\": [-2.1, -5.9, -1.8, -3.6, 28.9, 19.1, 22.2]}, {\"mode\": \"markers\", \"name\": \"Overijssel\", \"type\": \"scatter\", \"uid\": \"78107134-daa5-4ade-b7ac-65b0bec0a756\", \"x\": [-1.9, -2.9, -5.1, -6.4, 0.6, 0.9, 3.9], \"y\": [-0.4, -3.6, 4.0, -12.8, 34.1, 14.1, 25.2]}, {\"mode\": \"markers\", \"name\": \"Flevoland\", \"type\": \"scatter\", \"uid\": \"a5bd65b9-40b4-4a4a-a675-764128a5b2ff\", \"x\": [-2.7, -2.7, -5.3, -5.1, 0.9, 1.4, 4.8], \"y\": [-11.7, -4.6, -0.5, -2.2, 34.3, 19.4, 28.5]}, {\"mode\": \"markers\", \"name\": \"Gelderland\", \"type\": \"scatter\", \"uid\": \"17333431-1483-4e5b-a59d-81c58b6efc81\", \"x\": [-2.1, -3.2, -6.9, -6.9, -0.3, 2.0, 3.5], \"y\": [0.4, -6.3, -1.9, -5.4, 36.6, 15.8, 25.3]}, {\"mode\": \"markers\", \"name\": \"Utrecht\", \"type\": \"scatter\", \"uid\": \"50c92a7c-ceb2-4eb2-a49f-832977598c23\", \"x\": [-2.3, -2.5, -6.6, -6.6, 1.9, 3.9, 6.3], \"y\": [1.6, -2.9, -4.8, -9.1, 53.5, 16.1, 18.8]}, {\"mode\": \"markers\", \"name\": \"Noord-Holland\", \"type\": \"scatter\", \"uid\": \"fa41c2e1-905a-4355-9ea6-419bcb711fb9\", \"x\": [-2.8, -1.3, -6.4, -7.1, 2.7, 5.3, 8.2], \"y\": [2.4, -2.9, -4.6, -3.1, 48.5, 17.0, 11.5]}, {\"mode\": \"markers\", \"name\": \"Zuid-Holland\", \"type\": \"scatter\", \"uid\": \"a9c197cc-3156-426b-ac73-af35552780ed\", \"x\": [-2.2, -1.7, -6.4, -6.1, 1.2, 3.0, 5.2], \"y\": [-5.4, -5.3, -5.4, -7.2, 35.3, 19.9, 24.0]}, {\"mode\": \"markers\", \"name\": \"Zeeland\", \"type\": \"scatter\", \"uid\": \"db601431-cde0-45d8-879a-2bd80782cb95\", \"x\": [-2.1, -1.0, -5.2, -2.7, -1.0, 0.4, 2.4], \"y\": [-0.2, 1.8, 2.4, -5.9, 25.2, 6.7, 19.7]}, {\"mode\": \"markers\", \"name\": \"Brabant\", \"type\": \"scatter\", \"uid\": \"e876f7d6-12b3-4d79-a170-fcbc63b6f138\", \"x\": [-2.4, -3.2, -7.2, -7.3, 0.4, 2.3, 3.9], \"y\": [0.8, -3.7, -0.7, -5.4, 42.1, 13.5, 21.6]}, {\"mode\": \"markers\", \"name\": \"Limburg\", \"type\": \"scatter\", \"uid\": \"43daf1ba-4554-4ca1-b4d9-7adbffe4123f\", \"x\": [-2.3, -2.2, -6.1, -5.9, 1.2, 1.9, 4.1], \"y\": [-3.3, -3.7, 2.5, -7.9, 30.1, 12.3, 21.6]}],\n",
       "                        {\"title\": {\"text\": \"Correlatie verandering Price Index en Verkochte Huizen tussen Provincies\"}, \"xaxis\": {\"title\": {\"text\": \"Gemiddelde verandering % price index\"}}, \"yaxis\": {\"title\": {\"text\": \"Gemiddelde verandering % verkochte huizen\"}}},\n",
       "                        {\"showLink\": false, \"linkText\": \"Export to plot.ly\", \"plotlyServerURL\": \"https://plot.ly\", \"responsive\": true}\n",
       "                    ).then(function(){\n",
       "                            \n",
       "var gd = document.getElementById('333f7efe-02c6-4222-ad8b-254f278699bd');\n",
       "var x = new MutationObserver(function (mutations, observer) {{\n",
       "        var display = window.getComputedStyle(gd).display;\n",
       "        if (!display || display === 'none') {{\n",
       "            console.log([gd, 'removed!']);\n",
       "            Plotly.purge(gd);\n",
       "            observer.disconnect();\n",
       "        }}\n",
       "}});\n",
       "\n",
       "// Listen for the removal of the full notebook cells\n",
       "var notebookContainer = gd.closest('#notebook-container');\n",
       "if (notebookContainer) {{\n",
       "    x.observe(notebookContainer, {childList: true});\n",
       "}}\n",
       "\n",
       "// Listen for the clearing of the current output cell\n",
       "var outputEl = gd.closest('.output');\n",
       "if (outputEl) {{\n",
       "    x.observe(outputEl, {childList: true});\n",
       "}}\n",
       "\n",
       "                        })\n",
       "                };\n",
       "                });\n",
       "            </script>\n",
       "        </div>"
      ]
     },
     "metadata": {},
     "output_type": "display_data"
    },
    {
     "name": "stdout",
     "output_type": "stream",
     "text": [
      "Correlatie: 0.7016240924961737\n"
     ]
    }
   ],
   "source": [
    "# Scatter plot verandering Price Index tegenover verandering verkochte huizen per provincie\n",
    "\n",
    "traceGR = go.Scatter(\n",
    "    x = df_clean_years[df_clean_years['region'] == 'Groningen (PV)']['change%_price_year'],\n",
    "    y = df_clean_years[df_clean_years['region'] == 'Groningen (PV)']['change%_sold_year'],\n",
    "    mode = 'markers',\n",
    "    name = 'Groningen'\n",
    ")\n",
    "\n",
    "traceFr = go.Scatter(\n",
    "    x = df_clean_years[df_clean_years['region'] == 'Friesland (PV)']['change%_price_year'],\n",
    "    y = df_clean_years[df_clean_years['region'] == 'Friesland (PV)']['change%_sold_year'],\n",
    "    mode = 'markers',\n",
    "    name = 'Friesland'\n",
    ")\n",
    "\n",
    "traceDre = go.Scatter(\n",
    "    x = df_clean_years[df_clean_years['region'] == 'Drenthe (PV)']['change%_price_year'],\n",
    "    y = df_clean_years[df_clean_years['region'] == 'Drenthe (PV)']['change%_sold_year'],\n",
    "    mode = 'markers',\n",
    "    name = 'Drenthe'\n",
    ")\n",
    "\n",
    "traceOver = go.Scatter(\n",
    "    x = df_clean_years[df_clean_years['region'] == 'Overijssel (PV)']['change%_price_year'],\n",
    "    y = df_clean_years[df_clean_years['region'] == 'Overijssel (PV)']['change%_sold_year'],\n",
    "    mode = 'markers',\n",
    "    name = 'Overijssel'\n",
    ")\n",
    "\n",
    "traceFL = go.Scatter(\n",
    "    x = df_clean_years[df_clean_years['region'] == 'Flevoland (PV)']['change%_price_year'],\n",
    "    y = df_clean_years[df_clean_years['region'] == 'Flevoland (PV)']['change%_sold_year'],\n",
    "    mode = 'markers',\n",
    "    name = 'Flevoland'\n",
    ")\n",
    "\n",
    "traceGL = go.Scatter(\n",
    "    x = df_clean_years[df_clean_years['region'] == 'Gelderland (PV)']['change%_price_year'],\n",
    "    y = df_clean_years[df_clean_years['region'] == 'Gelderland (PV)']['change%_sold_year'],\n",
    "    mode = 'markers',\n",
    "    name = 'Gelderland'\n",
    ")\n",
    "\n",
    "traceUtr = go.Scatter(\n",
    "    x = df_clean_years[df_clean_years['region'] == 'Utrecht (PV)']['change%_price_year'],\n",
    "    y = df_clean_years[df_clean_years['region'] == 'Utrecht (PV)']['change%_sold_year'],\n",
    "    mode = 'markers',\n",
    "    name = 'Utrecht'\n",
    ")\n",
    "\n",
    "traceNH = go.Scatter(\n",
    "    x = df_clean_years[df_clean_years['region'] == 'Noord-Holland (PV)']['change%_price_year'],\n",
    "    y = df_clean_years[df_clean_years['region'] == 'Noord-Holland (PV)']['change%_sold_year'],\n",
    "    mode = 'markers',\n",
    "    name = 'Noord-Holland'\n",
    ")\n",
    "\n",
    "traceZH = go.Scatter(\n",
    "    x = df_clean_years[df_clean_years['region'] == 'Zuid-Holland (PV)']['change%_price_year'],\n",
    "    y = df_clean_years[df_clean_years['region'] == 'Zuid-Holland (PV)']['change%_sold_year'],\n",
    "    mode = 'markers',\n",
    "    name = 'Zuid-Holland'\n",
    ")\n",
    "\n",
    "traceZL = go.Scatter(\n",
    "    x = df_clean_years[df_clean_years['region'] == 'Zeeland (PV)']['change%_price_year'],\n",
    "    y = df_clean_years[df_clean_years['region'] == 'Zeeland (PV)']['change%_sold_year'],\n",
    "    mode = 'markers',\n",
    "    name = 'Zeeland'\n",
    ")\n",
    "\n",
    "traceBR = go.Scatter(\n",
    "    x = df_clean_years[df_clean_years['region'] == 'Noord-Brabant (PV)']['change%_price_year'],\n",
    "    y = df_clean_years[df_clean_years['region'] == 'Noord-Brabant (PV)']['change%_sold_year'],\n",
    "    mode = 'markers',\n",
    "    name = 'Brabant'\n",
    ")\n",
    "\n",
    "traceLim = go.Scatter(\n",
    "    x = df_clean_years[df_clean_years['region'] == 'Limburg (PV)']['change%_price_year'],\n",
    "    y = df_clean_years[df_clean_years['region'] == 'Limburg (PV)']['change%_sold_year'],\n",
    "    mode = 'markers',\n",
    "    name = 'Limburg'\n",
    ")\n",
    "\n",
    "layout = go.Layout(\n",
    "    title=go.layout.Title(\n",
    "        text='Correlatie verandering Price Index en Verkochte Huizen tussen Provincies',\n",
    "    ),\n",
    "    xaxis=go.layout.XAxis(\n",
    "        title=go.layout.xaxis.Title(\n",
    "            text='Gemiddelde verandering % price index',\n",
    "        ),\n",
    "    ),\n",
    "    yaxis = go.layout.YAxis(\n",
    "        title=go.layout.yaxis.Title(\n",
    "            text='Gemiddelde verandering % verkochte huizen',         \n",
    "        ),\n",
    "    ),\n",
    ")\n",
    "\n",
    "fig4 = go.Figure(data=[traceGR, traceFr, traceDre, traceOver, traceFL, traceGL, traceUtr, traceNH, traceZH, traceZL, traceBR, traceLim], layout=layout)\n",
    "iplot(fig4)\n",
    "\n",
    "x_mean = df_clean_years[df_clean_years['region'] != 'Nederland']['change%_price_year'].mean()\n",
    "y_mean = df_clean_years[df_clean_years['region'] != 'Nederland']['change%_sold_year'].mean()\n",
    "Correlatie = df_clean_years[df_clean_years['region'] != 'Nederland']['change%_price_year'].corr(df_clean_years[df_clean_years['region'] != 'Nederland']['change%_sold_year'])\n",
    "print('Correlatie:', Correlatie)"
   ]
  },
  {
   "cell_type": "markdown",
   "metadata": {},
   "source": [
    "Er is een verband gevonden tussen de verhouding van verkochte huizen/price index per provincie. Dit blijkt alleen een minder sterk verband te zijn dan verwacht. Er spelen kennelijk meer factoren mee bij het ontstaan van de price index.\n"
   ]
  }
 ],
 "metadata": {
  "kernelspec": {
   "display_name": "Python 3",
   "language": "python",
   "name": "python3"
  },
  "language_info": {
   "codemirror_mode": {
    "name": "ipython",
    "version": 3
   },
   "file_extension": ".py",
   "mimetype": "text/x-python",
   "name": "python",
   "nbconvert_exporter": "python",
   "pygments_lexer": "ipython3",
   "version": "3.7.1"
  }
 },
 "nbformat": 4,
 "nbformat_minor": 2
}
